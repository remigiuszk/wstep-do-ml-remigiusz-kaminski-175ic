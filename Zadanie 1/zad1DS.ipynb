{
 "cells": [
  {
   "cell_type": "markdown",
   "metadata": {
    "pycharm": {
     "name": "#%% md\n"
    }
   },
   "source": [
    "imports\n"
   ]
  },
  {
   "cell_type": "code",
   "execution_count": 6,
   "metadata": {
    "pycharm": {
     "name": "#%%\n"
    }
   },
   "outputs": [],
   "source": [
    "import numpy as np"
   ]
  },
  {
   "cell_type": "markdown",
   "metadata": {
    "pycharm": {
     "name": "#%% md\n"
    }
   },
   "source": [
    "tablica zer"
   ]
  },
  {
   "cell_type": "code",
   "execution_count": 7,
   "metadata": {
    "pycharm": {
     "name": "#%%\n"
    }
   },
   "outputs": [
    {
     "name": "stdout",
     "output_type": "stream",
     "text": [
      "[0. 0. 0. 0. 0. 0. 0. 0. 0. 0.]\n"
     ]
    }
   ],
   "source": [
    "zeroArray = np.zeros(10)\n",
    "print(zeroArray)"
   ]
  },
  {
   "cell_type": "markdown",
   "metadata": {},
   "source": [
    "tablica piątek"
   ]
  },
  {
   "cell_type": "code",
   "execution_count": 14,
   "metadata": {},
   "outputs": [
    {
     "name": "stdout",
     "output_type": "stream",
     "text": [
      "[5. 5. 5. 5. 5. 5. 5. 5. 5. 5.]\n"
     ]
    }
   ],
   "source": [
    "zeroArray = np.ones(10) * 5\n",
    "print(zeroArray)"
   ]
  },
  {
   "cell_type": "markdown",
   "metadata": {},
   "source": [
    "tablica od 10 do 50"
   ]
  },
  {
   "cell_type": "code",
   "execution_count": 13,
   "metadata": {},
   "outputs": [
    {
     "name": "stdout",
     "output_type": "stream",
     "text": [
      "[10 11 12 13 14 15 16 17 18 19 20 21 22 23 24 25 26 27 28 29 30 31 32 33\n",
      " 34 35 36 37 38 39 40 41 42 43 44 45 46 47 48 49 50]\n"
     ]
    }
   ],
   "source": [
    "tenToFiftyArray = np.arange(10, 51, 1)\n",
    "print(tenToFiftyArray)"
   ]
  },
  {
   "cell_type": "markdown",
   "metadata": {},
   "source": [
    "macierz 3x3 z liczbami od 0 do 8"
   ]
  },
  {
   "cell_type": "code",
   "execution_count": 16,
   "metadata": {},
   "outputs": [
    {
     "name": "stdout",
     "output_type": "stream",
     "text": [
      "[[0 1 2]\n",
      " [3 4 5]\n",
      " [6 7 8]]\n"
     ]
    }
   ],
   "source": [
    "zeroToEightMatrix = np.arange(0,9,1).reshape(3,3)\n",
    "print(zeroToEightMatrix)"
   ]
  },
  {
   "cell_type": "markdown",
   "metadata": {},
   "source": [
    "macierz jednostkowa 3x3"
   ]
  },
  {
   "cell_type": "code",
   "execution_count": 17,
   "metadata": {},
   "outputs": [
    {
     "name": "stdout",
     "output_type": "stream",
     "text": [
      "[[1. 0. 0.]\n",
      " [0. 1. 0.]\n",
      " [0. 0. 1.]]\n"
     ]
    }
   ],
   "source": [
    "identityMatrix = np.eye(3)\n",
    "print(identityMatrix)"
   ]
  },
  {
   "cell_type": "markdown",
   "metadata": {},
   "source": [
    "macierz 5x5 z liczbami z dystrubucji normalnej Gaussa"
   ]
  },
  {
   "cell_type": "code",
   "execution_count": 18,
   "metadata": {},
   "outputs": [
    {
     "name": "stdout",
     "output_type": "stream",
     "text": [
      "[[ 0.33508819 -1.23177546 -0.48437584 -0.09981868  0.08775169]\n",
      " [ 0.15729039  0.48619297  0.25429212 -0.85166758  0.89165377]\n",
      " [ 0.63516708 -0.53724512 -0.16438212  0.41132014  0.50506788]\n",
      " [ 0.84011866  0.93831261  1.51276599  0.87041234 -0.50903913]\n",
      " [ 0.25372791  0.34774677  0.33993486  0.51401493 -0.56736601]]\n"
     ]
    }
   ],
   "source": [
    "gaussMatrix = np.random.normal(size=(5,5))\n",
    "print(gaussMatrix)"
   ]
  },
  {
   "cell_type": "markdown",
   "metadata": {},
   "source": [
    "macierz 10x10 z wartosciami od 0,01 do do 1 z krokiem 0,01"
   ]
  },
  {
   "cell_type": "code",
   "execution_count": 21,
   "metadata": {},
   "outputs": [
    {
     "name": "stdout",
     "output_type": "stream",
     "text": [
      "[[0.01 0.02 0.03 0.04 0.05 0.06 0.07 0.08 0.09 0.1 ]\n",
      " [0.11 0.12 0.13 0.14 0.15 0.16 0.17 0.18 0.19 0.2 ]\n",
      " [0.21 0.22 0.23 0.24 0.25 0.26 0.27 0.28 0.29 0.3 ]\n",
      " [0.31 0.32 0.33 0.34 0.35 0.36 0.37 0.38 0.39 0.4 ]\n",
      " [0.41 0.42 0.43 0.44 0.45 0.46 0.47 0.48 0.49 0.5 ]\n",
      " [0.51 0.52 0.53 0.54 0.55 0.56 0.57 0.58 0.59 0.6 ]\n",
      " [0.61 0.62 0.63 0.64 0.65 0.66 0.67 0.68 0.69 0.7 ]\n",
      " [0.71 0.72 0.73 0.74 0.75 0.76 0.77 0.78 0.79 0.8 ]\n",
      " [0.81 0.82 0.83 0.84 0.85 0.86 0.87 0.88 0.89 0.9 ]\n",
      " [0.91 0.92 0.93 0.94 0.95 0.96 0.97 0.98 0.99 1.  ]]\n"
     ]
    }
   ],
   "source": [
    "tenByTenMatrix = np.arange(0.01, 1.01, 0.01).reshape(10,10)\n",
    "print(tenByTenMatrix)"
   ]
  },
  {
   "cell_type": "markdown",
   "metadata": {},
   "source": [
    "tablica rozlozona liniowo"
   ]
  },
  {
   "cell_type": "code",
   "execution_count": 22,
   "metadata": {},
   "outputs": [
    {
     "name": "stdout",
     "output_type": "stream",
     "text": [
      "[0.         0.05263158 0.10526316 0.15789474 0.21052632 0.26315789\n",
      " 0.31578947 0.36842105 0.42105263 0.47368421 0.52631579 0.57894737\n",
      " 0.63157895 0.68421053 0.73684211 0.78947368 0.84210526 0.89473684\n",
      " 0.94736842 1.        ]\n"
     ]
    }
   ],
   "source": [
    "linearArray = np.linspace(0,1,20)\n",
    "print(linearArray)"
   ]
  },
  {
   "cell_type": "markdown",
   "metadata": {},
   "source": [
    "#tablica z losowymi liczbami (1,25) - zamiana w macierz 5x5 i inne operacje"
   ]
  },
  {
   "cell_type": "code",
   "execution_count": 26,
   "metadata": {},
   "outputs": [
    {
     "name": "stdout",
     "output_type": "stream",
     "text": [
      "Tablica z losowymi liczbami od 1 do 25:\n",
      " [15 11 25 20  6  7 22  7  5  1 19 20  6 24 10 18 10 20 10 23 17  5  5 21\n",
      " 17]\n",
      "Macierz z takimi samymi wartościami:\n",
      " [[15 11 25 20  6]\n",
      " [ 7 22  7  5  1]\n",
      " [19 20  6 24 10]\n",
      " [18 10 20 10 23]\n",
      " [17  5  5 21 17]]\n"
     ]
    }
   ],
   "source": [
    "randomOneToTwentyFive = np.random.randint(1,26,25)\n",
    "print(\"Tablica z losowymi liczbami od 1 do 25:\\n\", randomOneToTwentyFive)\n",
    "matrix = randomOneToTwentyFive.reshape(5,5)\n",
    "print(\"Macierz z takimi samymi wartościami:\\n\", matrix)\n",
    "mean = randomOneToTwentyFive.mean()\n",
    "print(\"Średnia wartości: \", mean)\n",
    "sum = randomOneToTwentyFive.sum()\n",
    "print(\"Suma wartości: \", sum)\n",
    "standardDeviation = randomOneToTwentyFive.std()\n",
    "print(\"Odchylenie standardowe: \", standardDeviation)\n"
   ]
  },
  {
   "cell_type": "markdown",
   "metadata": {},
   "source": [
    "tablica z losowymi wartoscami od 1 do 100 - mediana, min, max"
   ]
  },
  {
   "cell_type": "code",
   "execution_count": 53,
   "metadata": {},
   "outputs": [
    {
     "name": "stdout",
     "output_type": "stream",
     "text": [
      "Macierz [[26 98 99 18  3]\n",
      " [44 64 37 87 27]\n",
      " [59 19 45 23  7]\n",
      " [54  7 26 96 85]\n",
      " [79 58  4 27 90]]\n",
      "mediana:  44.0\n",
      "minimum:  3\n",
      "maximum:  99\n"
     ]
    }
   ],
   "source": [
    "randomMatrix = np.random.randint(1,100,25).reshape(5,5)\n",
    "print(\"Macierz\", randomMatrix)\n",
    "median = np.median(randomMatrix)\n",
    "print(\"mediana: \", median)\n",
    "min = np.min(randomMatrix)\n",
    "print(\"minimum: \", min)\n",
    "max = np.max(randomMatrix)\n",
    "print(\"maximum: \", max)\n"
   ]
  },
  {
   "cell_type": "markdown",
   "metadata": {
    "collapsed": false
   },
   "source": [
    "losowe liczby - transpozycja"
   ]
  },
  {
   "cell_type": "code",
   "execution_count": null,
   "metadata": {
    "collapsed": false,
    "pycharm": {
     "name": "#%%\n"
    }
   },
   "outputs": [],
   "source": [
    "def set_y():\n",
    "    y_axis = np.random.randint(2, 11)\n",
    "    if y_axis != x:\n",
    "        return y_axis\n",
    "    else:\n",
    "        y_axis = set_y()\n",
    "        return y_axis\n",
    "\n",
    "\n",
    "x = np.random.randint(2, 11)\n",
    "y = set_y()\n",
    "randomNumbersRandomAxis = np.random.randint(0, 101, (x, y))\n",
    "print(\"losowe liczby z losowa osia:\\n\", randomNumbersRandomAxis)\n",
    "print(\"transpozycja:\\n\", randomNumbersRandomAxis.transpose())"
   ]
  },
  {
   "cell_type": "markdown",
   "metadata": {
    "collapsed": false
   },
   "source": [
    "dodawanie macierzy"
   ]
  },
  {
   "cell_type": "code",
   "execution_count": null,
   "metadata": {
    "collapsed": false,
    "pycharm": {
     "name": "#%%\n"
    }
   },
   "outputs": [],
   "source": [
    "tableX = np.random.randint(2, 17)\n",
    "tableY = np.random.randint(2, 17)\n",
    "matrixA = np.random.randint(0, 101, (tableX, tableY))\n",
    "print(\"macierz A + macierz B:\\n\", matrixA, \"\\n\")\n",
    "matrixB = np.random.randint(0, 101, (tableX, tableY))\n",
    "print(\"macierz A + macierz B:\\n\", matrixB, \"\\n\")\n",
    "print(\"macierz A + macierz B:\\n\", matrixA + matrixB, \"\\n\")"
   ]
  },
  {
   "cell_type": "markdown",
   "metadata": {
    "collapsed": false
   },
   "source": [
    "mnozenie macierzy"
   ]
  },
  {
   "cell_type": "code",
   "execution_count": null,
   "metadata": {
    "collapsed": false,
    "pycharm": {
     "name": "#%%\n"
    }
   },
   "outputs": [],
   "source": [
    "matrixXMultiply = np.random.randint(2, 15)\n",
    "matrixYMultiply = np.random.randint(2, 15)\n",
    "matrixAMultiply = np.random.randint(0, 101, (matrixXMultiply, matrixYMultiply))\n",
    "print(\"Macierz A do pomnożenia:\\n\", matrixAMultiply, \"\\n\")\n",
    "matrixBMultiply = np.random.randint(0, 101, (matrixYMultiply, matrixXMultiply))\n",
    "print(\"Macierz B do pomnożenia:\\n\", matrixBMultiply, \"\\n\")\n",
    "print(\"Macierz A * Macierz B - np.matmul():\\n\", np.matmul(matrixAMultiply, matrixBMultiply))\n",
    "print(\"Macierz A * Macierz B - np.dot():\\n\", np.dot(matrixAMultiply, matrixBMultiply))"
   ]
  },
  {
   "cell_type": "markdown",
   "metadata": {},
   "source": []
  },
  {
   "cell_type": "code",
   "execution_count": 54,
   "metadata": {},
   "outputs": [
    {
     "name": "stdout",
     "output_type": "stream",
     "text": [
      "losowe liczby z losowa osia:\n",
      " [[ 35  76  67  42  90  85  45]\n",
      " [ 73   2  77  72  94  45  83]\n",
      " [ 92  65  79  74  74  26  39]\n",
      " [  9  49  49  10  50  32  11]\n",
      " [ 53 100  25  37  61  46  61]\n",
      " [ 48  19  61  26  42  73  93]\n",
      " [ 86  39  95  66  81  61  57]\n",
      " [  8  57  53  23  31  10  56]\n",
      " [ 29  33  66  33  89  90  91]\n",
      " [ 52  87   3  98  88  82  96]]\n",
      "transpozycja:\n",
      " [[ 35  73  92   9  53  48  86   8  29  52]\n",
      " [ 76   2  65  49 100  19  39  57  33  87]\n",
      " [ 67  77  79  49  25  61  95  53  66   3]\n",
      " [ 42  72  74  10  37  26  66  23  33  98]\n",
      " [ 90  94  74  50  61  42  81  31  89  88]\n",
      " [ 85  45  26  32  46  73  61  10  90  82]\n",
      " [ 45  83  39  11  61  93  57  56  91  96]]\n"
     ]
    }
   ],
   "source": [
    "def set_y():\n",
    "    y_axis = np.random.randint(2, 11)\n",
    "    if y_axis != x:\n",
    "        return y_axis\n",
    "    else:\n",
    "        y_axis = set_y()\n",
    "        return y_axis\n",
    "\n",
    "\n",
    "x = np.random.randint(2, 11)\n",
    "y = set_y()\n",
    "randomNumbersRandomAxis = np.random.randint(0, 101, (x, y))\n",
    "print(\"losowe liczby z losowa osia:\\n\", randomNumbersRandomAxis)\n",
    "print(\"transpozycja:\\n\", randomNumbersRandomAxis.transpose())"
   ]
  },
  {
   "cell_type": "markdown",
   "metadata": {},
   "source": [
    "dodawanie macierzy"
   ]
  },
  {
   "cell_type": "code",
   "execution_count": 64,
   "metadata": {},
   "outputs": [
    {
     "name": "stdout",
     "output_type": "stream",
     "text": [
      "macierz A + macierz B:\n",
      " [[  1  40  55  88  18  54]\n",
      " [ 18  86  80  29  23  21]\n",
      " [ 17  50  12  51  46  58]\n",
      " [ 93  45  81  34  53   4]\n",
      " [ 58  37  87  79  14  42]\n",
      " [100   7  26  66  77  68]\n",
      " [ 25  38  21  14  68  36]\n",
      " [ 94  13  29  36  74  23]\n",
      " [ 25  94  93  97  72  34]\n",
      " [ 80  92  10  55  22  76]\n",
      " [ 10  94  56  86  84   6]\n",
      " [ 42  77  21  70   1  76]\n",
      " [ 24  67  57  40  92  51]\n",
      " [ 48  46  30  40  45  51]\n",
      " [ 88  95  91  63  98  18]] \n",
      "\n",
      "macierz A + macierz B:\n",
      " [[ 21  64  62  51  99  49]\n",
      " [ 26  87  32  94  80  43]\n",
      " [ 32  99  95  61  26  95]\n",
      " [  7  70  52  66  20  99]\n",
      " [ 58  96  30  90  28  17]\n",
      " [ 99  86  73  98   1   0]\n",
      " [ 76  48  79  28  87  16]\n",
      " [  4  59   8  34  29  90]\n",
      " [ 68  22  96  51  56  47]\n",
      " [ 83  10  17  43  66   1]\n",
      " [ 65  90  57  11   3  90]\n",
      " [ 79  36  31  32  56  50]\n",
      " [ 64  57  31 100  73  77]\n",
      " [  2  41  50  33  70  45]\n",
      " [ 17  81  61  45  58  47]] \n",
      "\n",
      "macierz A + macierz B:\n",
      " [[ 22 104 117 139 117 103]\n",
      " [ 44 173 112 123 103  64]\n",
      " [ 49 149 107 112  72 153]\n",
      " [100 115 133 100  73 103]\n",
      " [116 133 117 169  42  59]\n",
      " [199  93  99 164  78  68]\n",
      " [101  86 100  42 155  52]\n",
      " [ 98  72  37  70 103 113]\n",
      " [ 93 116 189 148 128  81]\n",
      " [163 102  27  98  88  77]\n",
      " [ 75 184 113  97  87  96]\n",
      " [121 113  52 102  57 126]\n",
      " [ 88 124  88 140 165 128]\n",
      " [ 50  87  80  73 115  96]\n",
      " [105 176 152 108 156  65]] \n",
      "\n"
     ]
    }
   ],
   "source": [
    "tableX = np.random.randint(2, 17)\n",
    "tableY = np.random.randint(2, 17)\n",
    "matrixA = np.random.randint(0, 101, (tableX, tableY))\n",
    "print(\"macierz A + macierz B:\\n\", matrixA, \"\\n\")\n",
    "matrixB = np.random.randint(0, 101, (tableX, tableY))\n",
    "print(\"macierz A + macierz B:\\n\", matrixB, \"\\n\")\n",
    "print(\"macierz A + macierz B:\\n\", matrixA + matrixB, \"\\n\")"
   ]
  },
  {
   "cell_type": "markdown",
   "metadata": {},
   "source": [
    "mnozenie macierzy"
   ]
  },
  {
   "cell_type": "code",
   "execution_count": 65,
   "metadata": {},
   "outputs": [
    {
     "name": "stdout",
     "output_type": "stream",
     "text": [
      "Macierz A do pomnożenia:\n",
      " [[73 56]\n",
      " [98 14]\n",
      " [99 18]\n",
      " [ 5 22]\n",
      " [31 78]] \n",
      "\n",
      "Macierz B do pomnożenia:\n",
      " [[ 14  91  40  65  61]\n",
      " [ 77   1 100  53   6]] \n",
      "\n",
      "Macierz A * Macierz B - np.matmul():\n",
      " [[5334 6699 8520 7713 4789]\n",
      " [2450 8932 5320 7112 6062]\n",
      " [2772 9027 5760 7389 6147]\n",
      " [1764  477 2400 1491  437]\n",
      " [6440 2899 9040 6149 2359]]\n",
      "Macierz A * Macierz B - np.dot():\n",
      " [[5334 6699 8520 7713 4789]\n",
      " [2450 8932 5320 7112 6062]\n",
      " [2772 9027 5760 7389 6147]\n",
      " [1764  477 2400 1491  437]\n",
      " [6440 2899 9040 6149 2359]]\n"
     ]
    }
   ],
   "source": [
    "matrixXMultiply = np.random.randint(2, 15)\n",
    "matrixYMultiply = np.random.randint(2, 15)\n",
    "matrixAMultiply = np.random.randint(0, 101, (matrixXMultiply, matrixYMultiply))\n",
    "print(\"Macierz A do pomnożenia:\\n\", matrixAMultiply, \"\\n\")\n",
    "matrixBMultiply = np.random.randint(0, 101, (matrixYMultiply, matrixXMultiply))\n",
    "print(\"Macierz B do pomnożenia:\\n\", matrixBMultiply, \"\\n\")\n",
    "print(\"Macierz A * Macierz B - np.matmul():\\n\", np.matmul(matrixAMultiply, matrixBMultiply))\n",
    "print(\"Macierz A * Macierz B - np.dot():\\n\", np.dot(matrixAMultiply, matrixBMultiply))"
   ]
  },
  {
   "cell_type": "code",
   "execution_count": null,
   "metadata": {},
   "outputs": [],
   "source": []
  }
 ],
 "metadata": {
  "kernelspec": {
   "display_name": "Python 3",
   "language": "python",
   "name": "python3"
  },
  "language_info": {
   "codemirror_mode": {
    "name": "ipython",
    "version": 3
   },
   "file_extension": ".py",
   "mimetype": "text/x-python",
   "name": "python",
   "nbconvert_exporter": "python",
   "pygments_lexer": "ipython3",
   "version": "3.8.0"
  }
 },
 "nbformat": 4,
 "nbformat_minor": 1
}
