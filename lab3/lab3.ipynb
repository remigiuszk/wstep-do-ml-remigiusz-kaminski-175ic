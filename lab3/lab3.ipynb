{
 "cells": [
  {
   "cell_type": "code",
   "execution_count": 123,
   "metadata": {},
   "outputs": [],
   "source": [
    "import numpy as np\n",
    "from scipy import linalg, sparse\n",
    "import pandas as pd\n"
   ]
  },
  {
   "cell_type": "markdown",
   "metadata": {},
   "source": [
    "# python basics"
   ]
  },
  {
   "cell_type": "markdown",
   "metadata": {},
   "source": [
    "# 1. stworzenie tablicy dwuwymiarowej"
   ]
  },
  {
   "cell_type": "code",
   "execution_count": 97,
   "metadata": {},
   "outputs": [
    {
     "data": {
      "text/plain": [
       "array([[ 1,  5, 60],\n",
       "       [ 4, 10, 32]])"
      ]
     },
     "execution_count": 97,
     "metadata": {},
     "output_type": "execute_result"
    }
   ],
   "source": [
    "moja_tablica = np.array([[1,5,60], [4,10,32]])\n",
    "moja_tablica"
   ]
  },
  {
   "cell_type": "markdown",
   "metadata": {},
   "source": [
    "# 2. dołożenie tablicy do juz istniejacej"
   ]
  },
  {
   "cell_type": "code",
   "execution_count": 98,
   "metadata": {},
   "outputs": [
    {
     "data": {
      "text/plain": [
       "array([ 1,  5, 60,  4, 10, 32, 43, 31, 55, 41, 32, 71])"
      ]
     },
     "execution_count": 98,
     "metadata": {},
     "output_type": "execute_result"
    }
   ],
   "source": [
    "tablica2 = np.array([[43,31,55], [41,32,71]])\n",
    "tablica3 = np.append(moja_tablica, tablica2)\n",
    "tablica3"
   ]
  },
  {
   "cell_type": "markdown",
   "metadata": {},
   "source": [
    "# 3. podzbiór tablicy"
   ]
  },
  {
   "cell_type": "code",
   "execution_count": 99,
   "metadata": {},
   "outputs": [
    {
     "data": {
      "text/plain": [
       "array([ 5, 10])"
      ]
     },
     "execution_count": 99,
     "metadata": {},
     "output_type": "execute_result"
    }
   ],
   "source": [
    "moja_tablica[:,1]"
   ]
  },
  {
   "cell_type": "markdown",
   "metadata": {},
   "source": [
    "# 4. odchylenie standardowe wartości w tablicy"
   ]
  },
  {
   "cell_type": "code",
   "execution_count": 100,
   "metadata": {},
   "outputs": [
    {
     "data": {
      "text/plain": [
       "21.116081286282473"
      ]
     },
     "execution_count": 100,
     "metadata": {},
     "output_type": "execute_result"
    }
   ],
   "source": [
    "np.std(moja_tablica)"
   ]
  },
  {
   "cell_type": "markdown",
   "metadata": {},
   "source": [
    "# 5. zamiana znaków w tekscie "
   ]
  },
  {
   "cell_type": "code",
   "execution_count": 101,
   "metadata": {},
   "outputs": [
    {
     "data": {
      "text/plain": [
       "'przykladowyBBBtekstBBBddBsBaaaBBBBBBBdBBBBBB'"
      ]
     },
     "execution_count": 101,
     "metadata": {},
     "output_type": "execute_result"
    }
   ],
   "source": [
    "my_string = 'przykladowy   tekst   dd s aaa       d      '\n",
    "my_string = my_string.replace(' ', 'B')\n",
    "my_string"
   ]
  },
  {
   "cell_type": "markdown",
   "metadata": {},
   "source": [
    "# numpy basics"
   ]
  },
  {
   "cell_type": "markdown",
   "metadata": {},
   "source": [
    "# 1. sortowanie tablicy"
   ]
  },
  {
   "cell_type": "code",
   "execution_count": 102,
   "metadata": {
    "pycharm": {
     "name": "#%%\n"
    }
   },
   "outputs": [
    {
     "name": "stdout",
     "output_type": "stream",
     "text": [
      "[ 1  5 14 45 56 60 67]\n"
     ]
    }
   ],
   "source": [
    "array1 = np.array([14,5,60,56,45,1,67])\n",
    "array1.sort();\n",
    "print(array1)"
   ]
  },
  {
   "cell_type": "markdown",
   "metadata": {},
   "source": [
    "# 2. transpozycja tablicy/macierzy"
   ]
  },
  {
   "cell_type": "code",
   "execution_count": 103,
   "metadata": {
    "pycharm": {
     "name": "#%%\n"
    }
   },
   "outputs": [
    {
     "name": "stdout",
     "output_type": "stream",
     "text": [
      "tablica: \n",
      "[[0.93563623 0.14976203 0.73284388 0.12817099 0.19465593 0.86699216]\n",
      " [0.89395924 0.87936752 0.0613042  0.87318315 0.63841057 0.7848798 ]]\n",
      "tablica po transpozycji:\n",
      "[[0.93563623 0.89395924]\n",
      " [0.14976203 0.87936752]\n",
      " [0.73284388 0.0613042 ]\n",
      " [0.12817099 0.87318315]\n",
      " [0.19465593 0.63841057]\n",
      " [0.86699216 0.7848798 ]]\n"
     ]
    }
   ],
   "source": [
    "array2 = np.random.random((2,6))\n",
    "array2T = np.transpose(array2)\n",
    "print(\"tablica: \")\n",
    "print(array2)\n",
    "print(\"tablica po transpozycji:\")\n",
    "print(array2T)"
   ]
  },
  {
   "cell_type": "markdown",
   "metadata": {},
   "source": [
    "# 3. nakladanie tablic na siebie pionowo"
   ]
  },
  {
   "cell_type": "code",
   "execution_count": 104,
   "metadata": {
    "pycharm": {
     "name": "#%%\n"
    }
   },
   "outputs": [
    {
     "name": "stdout",
     "output_type": "stream",
     "text": [
      "[[ 3 41  3 67]\n",
      " [ 7 53  7 66]]\n"
     ]
    }
   ],
   "source": [
    "arrayToStack1 = np.array([3,41,3,67])\n",
    "arrayToStack2 = np.array([7,53,7,66])\n",
    "arrayStacked = np.vstack((arrayToStack1,arrayToStack2))\n",
    "print(arrayStacked)"
   ]
  },
  {
   "cell_type": "markdown",
   "metadata": {},
   "source": [
    "# 4. Rozdzielanie tablic poziomo"
   ]
  },
  {
   "cell_type": "code",
   "execution_count": 105,
   "metadata": {
    "pycharm": {
     "name": "#%%\n"
    }
   },
   "outputs": [
    {
     "data": {
      "text/plain": [
       "[array([[ 3, 41],\n",
       "        [ 7, 53]]),\n",
       " array([[ 3, 67],\n",
       "        [ 7, 66]])]"
      ]
     },
     "execution_count": 105,
     "metadata": {},
     "output_type": "execute_result"
    }
   ],
   "source": [
    "np.hsplit(arrayStacked,2)"
   ]
  },
  {
   "cell_type": "markdown",
   "metadata": {},
   "source": [
    "# 5. Zmiana organizacji tablicy bez zmiany danych"
   ]
  },
  {
   "cell_type": "code",
   "execution_count": 106,
   "metadata": {
    "pycharm": {
     "name": "#%%\n"
    }
   },
   "outputs": [
    {
     "data": {
      "text/plain": [
       "array([[ 3, 41],\n",
       "       [ 3, 67],\n",
       "       [ 7, 53],\n",
       "       [ 7, 66]])"
      ]
     },
     "execution_count": 106,
     "metadata": {},
     "output_type": "execute_result"
    }
   ],
   "source": [
    "arrayStacked.reshape(4,2)"
   ]
  },
  {
   "cell_type": "markdown",
   "metadata": {},
   "source": [
    "# SciPy - linear algebra"
   ]
  },
  {
   "cell_type": "markdown",
   "metadata": {},
   "source": [
    "# 1. tworzenie macierzy rozrzedzonej (sparse matrix)"
   ]
  },
  {
   "cell_type": "code",
   "execution_count": 107,
   "metadata": {
    "pycharm": {
     "name": "#%%\n"
    }
   },
   "outputs": [
    {
     "name": "stdout",
     "output_type": "stream",
     "text": [
      "  (0, 0)\t0.8872905601525937\n",
      "  (0, 1)\t0.4347351952775559\n",
      "  (0, 2)\t0.19757340340496732\n",
      "  (0, 3)\t0.01962543535025707\n",
      "  (0, 4)\t0.0656426800251716\n",
      "  (1, 0)\t0.879472204230332\n",
      "  (1, 1)\t0.12515131181212313\n",
      "  (1, 2)\t0.918808492211095\n",
      "  (1, 3)\t0.7315434737190091\n",
      "  (1, 4)\t0.5373162869764583\n"
     ]
    }
   ],
   "source": [
    "A = np.mat(np.random.random((2,5)))\n",
    "sparseMatrix =  sparse.dok_matrix(A)\n",
    "print(sparseMatrix)"
   ]
  },
  {
   "cell_type": "code",
   "execution_count": 107,
   "metadata": {
    "pycharm": {
     "name": "#%%\n"
    }
   },
   "outputs": [],
   "source": []
  },
  {
   "cell_type": "markdown",
   "metadata": {},
   "source": []
  },
  {
   "cell_type": "code",
   "execution_count": 29,
   "metadata": {},
   "outputs": [
    {
     "name": "stdout",
     "output_type": "stream",
     "text": [
      "[ 1  5 14 45 56 60 67]\n"
     ]
    }
   ],
   "source": [
    "array1 = np.array([14,5,60,56,45,1,67])\n",
    "array1.sort();\n",
    "print(array1)"
   ]
  },
  {
   "cell_type": "markdown",
   "metadata": {},
   "source": [
    "# 2. transpozycja tablicy/macierzy"
   ]
  },
  {
   "cell_type": "code",
   "execution_count": 37,
   "metadata": {},
   "outputs": [
    {
     "name": "stdout",
     "output_type": "stream",
     "text": [
      "tablica: \n",
      "[[0.20681935 0.91800764 0.308749   0.49871369 0.19030544 0.96978167]\n",
      " [0.02983639 0.85522891 0.78651461 0.79425698 0.04974838 0.95548461]]\n",
      "tablica po transpozycji:\n",
      "[[0.20681935 0.02983639]\n",
      " [0.91800764 0.85522891]\n",
      " [0.308749   0.78651461]\n",
      " [0.49871369 0.79425698]\n",
      " [0.19030544 0.04974838]\n",
      " [0.96978167 0.95548461]]\n"
     ]
    }
   ],
   "source": [
    "array2 = np.random.random((2,6))\n",
    "array2T = np.transpose(array2)\n",
    "print(\"tablica: \")\n",
    "print(array2)\n",
    "print(\"tablica po transpozycji:\")\n",
    "print(array2T)"
   ]
  },
  {
   "cell_type": "markdown",
   "metadata": {},
   "source": [
    "# 3. nakladanie tablic na siebie pionowo"
   ]
  },
  {
   "cell_type": "code",
   "execution_count": 44,
   "metadata": {},
   "outputs": [
    {
     "name": "stdout",
     "output_type": "stream",
     "text": [
      "[[ 3 41  3 67]\n",
      " [ 7 53  7 66]]\n"
     ]
    }
   ],
   "source": [
    "arrayToStack1 = np.array([3,41,3,67])\n",
    "arrayToStack2 = np.array([7,53,7,66])\n",
    "arrayStacked = np.vstack((arrayToStack1,arrayToStack2))\n",
    "print(arrayStacked)"
   ]
  },
  {
   "cell_type": "markdown",
   "metadata": {},
   "source": [
    "# 4. Rozdzielanie tablic poziomo"
   ]
  },
  {
   "cell_type": "code",
   "execution_count": 46,
   "metadata": {},
   "outputs": [
    {
     "data": {
      "text/plain": [
       "[array([[ 3, 41],\n",
       "        [ 7, 53]]),\n",
       " array([[ 3, 67],\n",
       "        [ 7, 66]])]"
      ]
     },
     "execution_count": 46,
     "metadata": {},
     "output_type": "execute_result"
    }
   ],
   "source": [
    "np.hsplit(arrayStacked,2)"
   ]
  },
  {
   "cell_type": "markdown",
   "metadata": {},
   "source": [
    "# 5. Zmiana organizacji tablicy bez zmiany danych"
   ]
  },
  {
   "cell_type": "code",
   "execution_count": 48,
   "metadata": {},
   "outputs": [
    {
     "data": {
      "text/plain": [
       "array([[ 3, 41],\n",
       "       [ 3, 67],\n",
       "       [ 7, 53],\n",
       "       [ 7, 66]])"
      ]
     },
     "execution_count": 48,
     "metadata": {},
     "output_type": "execute_result"
    }
   ],
   "source": [
    "arrayStacked.reshape(4,2)"
   ]
  },
  {
   "cell_type": "markdown",
   "metadata": {},
   "source": [
    "# SciPy - linear algebra"
   ]
  },
  {
   "cell_type": "markdown",
   "metadata": {},
   "source": [
    "# 1. tworzenie macierzy rozrzedzonej (sparse matrix)"
   ]
  },
  {
   "cell_type": "code",
   "execution_count": 115,
   "metadata": {},
   "outputs": [
    {
     "name": "stdout",
     "output_type": "stream",
     "text": [
      "  (0, 0)\t0.3440274848182193\n",
      "  (0, 1)\t0.3824921026569237\n",
      "  (0, 2)\t0.8192884248654232\n",
      "  (0, 3)\t0.7013278100453584\n",
      "  (0, 4)\t0.5310637176794282\n",
      "  (1, 0)\t0.4488056470560733\n",
      "  (1, 1)\t0.06596332535095562\n",
      "  (1, 2)\t0.52326017594303\n",
      "  (1, 3)\t0.14528926595290037\n",
      "  (1, 4)\t0.48969584058038695\n",
      "  (2, 0)\t0.7971068502854941\n",
      "  (2, 1)\t0.2999267908786124\n",
      "  (2, 2)\t0.25351704315520973\n",
      "  (2, 3)\t0.1538499819606276\n",
      "  (2, 4)\t0.6206737674593136\n",
      "  (3, 0)\t0.3981064800741275\n",
      "  (3, 1)\t0.8696289774900458\n",
      "  (3, 2)\t0.5846479782309122\n",
      "  (3, 3)\t0.8885704046615677\n",
      "  (3, 4)\t0.8863370997724616\n",
      "  (4, 0)\t0.39814919629054646\n",
      "  (4, 1)\t0.9879136798804041\n",
      "  (4, 2)\t0.45865737830899955\n",
      "  (4, 3)\t0.24314119059308592\n",
      "  (4, 4)\t0.7317716570637371\n"
     ]
    }
   ],
   "source": [
    "A = np.mat(np.random.random((5,5)))\n",
    "sparseMatrix =  sparse.csr_matrix(A)\n",
    "print(sparseMatrix)"
   ]
  },
  {
   "cell_type": "markdown",
   "metadata": {},
   "source": [
    "# 2. normalizacja macierzy rozrzedzonej"
   ]
  },
  {
   "cell_type": "code",
   "execution_count": 118,
   "metadata": {},
   "outputs": [
    {
     "name": "stdout",
     "output_type": "stream",
     "text": [
      "  (0, 0)\t1.197382846029355\n",
      "  (0, 1)\t1.2397922781838224\n",
      "  (0, 2)\t1.1590126741021405\n",
      "  (0, 3)\t1.0840655650405369\n",
      "  (0, 4)\t1.374316693463525\n",
      "  (1, 0)\t0.9240741664962666\n",
      "  (1, 1)\t0.971123317073637\n",
      "  (1, 2)\t0.9189223642341043\n",
      "  (1, 3)\t0.808091693363678\n",
      "  (1, 4)\t1.0404523197109081\n",
      "  (2, 0)\t0.9587935703259197\n",
      "  (2, 1)\t1.0712946863482309\n",
      "  (2, 2)\t1.117540037863241\n",
      "  (2, 3)\t0.9639662011726685\n",
      "  (2, 4)\t1.1480824124091642\n",
      "  (3, 0)\t1.3038101531431068\n",
      "  (3, 1)\t1.4259519325736942\n",
      "  (3, 2)\t1.3621491880715084\n",
      "  (3, 3)\t1.2249740422867004\n",
      "  (3, 4)\t1.5608710860863801\n",
      "  (4, 0)\t1.1550345552306072\n",
      "  (4, 1)\t1.1355124331583328\n",
      "  (4, 2)\t1.1988314524844061\n",
      "  (4, 3)\t0.9419674541698962\n",
      "  (4, 4)\t1.315633395372129\n"
     ]
    }
   ],
   "source": [
    "normMatrix = linalg.norm(sparseMatrix)\n",
    "print(normMatrix)"
   ]
  },
  {
   "cell_type": "markdown",
   "metadata": {},
   "source": [
    "# 3. Macierz wykladnicza"
   ]
  },
  {
   "cell_type": "code",
   "execution_count": 120,
   "metadata": {},
   "outputs": [
    {
     "name": "stdout",
     "output_type": "stream",
     "text": [
      "[[3.34000865 2.57781184 2.89038942 2.34603965 3.21344934]\n",
      " [1.63425417 2.37032836 1.76996232 1.09058844 2.05350628]\n",
      " [2.23305215 1.9364185  2.91416258 1.4028818  2.5872856 ]\n",
      " [2.90283367 3.71601997 3.30126071 3.98296382 4.34032507]\n",
      " [2.22920614 2.90579898 2.42788878 1.62057258 4.15448173]]\n"
     ]
    }
   ],
   "source": [
    "expmArray = linalg.expm(A)\n",
    "print(expmArray)"
   ]
  },
  {
   "cell_type": "markdown",
   "metadata": {},
   "source": [
    "# 4. Pierwiastek kwadratowy z macierzy"
   ]
  },
  {
   "cell_type": "code",
   "execution_count": 121,
   "metadata": {},
   "outputs": [
    {
     "name": "stdout",
     "output_type": "stream",
     "text": [
      "[[ 0.49024746+0.24281369j  0.05425577+0.17280725j  0.45051617-0.36636254j\n",
      "   0.41923493-0.10251609j  0.22550718+0.06874029j]\n",
      " [ 0.33287275-0.11951506j  0.18883401+0.45238083j  0.30749942-0.17210852j\n",
      "  -0.00147932+0.0766343j   0.29960908-0.12946515j]\n",
      " [ 0.48166981-0.38991949j  0.12721033+0.0340925j   0.42439743+0.38398583j\n",
      "   0.04215709+0.17979983j  0.30131249-0.16582995j]\n",
      " [ 0.07964622+0.03976251j  0.47697907-0.02174051j  0.21892003-0.02718052j\n",
      "   0.89418309-0.01922481j  0.4247524 +0.02016054j]\n",
      " [ 0.1173864 +0.20593931j  0.72297046-0.51221175j  0.22398106+0.12127942j\n",
      "   0.0810673 -0.11903221j  0.68959142+0.17552236j]]\n"
     ]
    }
   ],
   "source": [
    "sqrtMatrix = linalg.sqrtm(A)\n",
    "print(sqrtMatrix)"
   ]
  },
  {
   "cell_type": "markdown",
   "metadata": {},
   "source": [
    "# 5. Macierz sinusow"
   ]
  },
  {
   "cell_type": "code",
   "execution_count": 122,
   "metadata": {},
   "outputs": [
    {
     "name": "stdout",
     "output_type": "stream",
     "text": [
      "[[1.15001044 1.28930053 1.71004576 1.37553806 1.63222085]\n",
      " [0.92919587 0.59290659 1.0484168  0.53862138 1.13800286]\n",
      " [1.42098604 0.97256433 0.90681198 0.6502204  1.4521963 ]\n",
      " [1.44676828 2.03239218 1.71947697 1.74146372 2.30589002]\n",
      " [1.1391218  1.79636693 1.25224112 0.83374657 1.71979266]]\n"
     ]
    }
   ],
   "source": [
    "sin = linalg.sinhm(A)\n",
    "print(sin)"
   ]
  },
  {
   "cell_type": "markdown",
   "metadata": {},
   "source": [
    "# Pandas"
   ]
  },
  {
   "cell_type": "markdown",
   "metadata": {},
   "source": [
    "# 1. sortowanie po wartosci"
   ]
  },
  {
   "cell_type": "code",
   "execution_count": 127,
   "metadata": {},
   "outputs": [
    {
     "data": {
      "text/html": [
       "<div>\n",
       "<style scoped>\n",
       "    .dataframe tbody tr th:only-of-type {\n",
       "        vertical-align: middle;\n",
       "    }\n",
       "\n",
       "    .dataframe tbody tr th {\n",
       "        vertical-align: top;\n",
       "    }\n",
       "\n",
       "    .dataframe thead th {\n",
       "        text-align: right;\n",
       "    }\n",
       "</style>\n",
       "<table border=\"1\" class=\"dataframe\">\n",
       "  <thead>\n",
       "    <tr style=\"text-align: right;\">\n",
       "      <th></th>\n",
       "      <th>id</th>\n",
       "      <th>marka</th>\n",
       "      <th>model</th>\n",
       "      <th>rok_produkcji</th>\n",
       "      <th>rodzaj_silnika</th>\n",
       "      <th>pojemnosc_silnika</th>\n",
       "      <th>przebieg</th>\n",
       "      <th>cena</th>\n",
       "      <th>wojewodztwo</th>\n",
       "    </tr>\n",
       "  </thead>\n",
       "  <tbody>\n",
       "    <tr>\n",
       "      <th>92</th>\n",
       "      <td>92</td>\n",
       "      <td>Jeep</td>\n",
       "      <td>Compass</td>\n",
       "      <td>2017.0</td>\n",
       "      <td>Diesel</td>\n",
       "      <td>1368.0</td>\n",
       "      <td>1.0</td>\n",
       "      <td>113900.0</td>\n",
       "      <td>Kujawsko-pomorskie</td>\n",
       "    </tr>\n",
       "    <tr>\n",
       "      <th>32</th>\n",
       "      <td>32</td>\n",
       "      <td>Suzuki</td>\n",
       "      <td>SX4 S-Cross</td>\n",
       "      <td>2017.0</td>\n",
       "      <td>Benzyna</td>\n",
       "      <td>998.0</td>\n",
       "      <td>1.0</td>\n",
       "      <td>73900.0</td>\n",
       "      <td>Śląskie</td>\n",
       "    </tr>\n",
       "    <tr>\n",
       "      <th>121</th>\n",
       "      <td>121</td>\n",
       "      <td>Hyundai</td>\n",
       "      <td>Tucson II</td>\n",
       "      <td>2017.0</td>\n",
       "      <td>Benzyna</td>\n",
       "      <td>1591.0</td>\n",
       "      <td>1.0</td>\n",
       "      <td>90860.0</td>\n",
       "      <td>Śląskie</td>\n",
       "    </tr>\n",
       "    <tr>\n",
       "      <th>837</th>\n",
       "      <td>837</td>\n",
       "      <td>Renault</td>\n",
       "      <td>Scenic IV</td>\n",
       "      <td>2017.0</td>\n",
       "      <td>Benzyna</td>\n",
       "      <td>1197.0</td>\n",
       "      <td>1.0</td>\n",
       "      <td>83900.0</td>\n",
       "      <td>Wielkopolskie</td>\n",
       "    </tr>\n",
       "    <tr>\n",
       "      <th>836</th>\n",
       "      <td>836</td>\n",
       "      <td>Renault</td>\n",
       "      <td>Clio IV</td>\n",
       "      <td>2017.0</td>\n",
       "      <td>Benzyna</td>\n",
       "      <td>1200.0</td>\n",
       "      <td>1.0</td>\n",
       "      <td>42000.0</td>\n",
       "      <td>Mazowieckie</td>\n",
       "    </tr>\n",
       "    <tr>\n",
       "      <th>...</th>\n",
       "      <td>...</td>\n",
       "      <td>...</td>\n",
       "      <td>...</td>\n",
       "      <td>...</td>\n",
       "      <td>...</td>\n",
       "      <td>...</td>\n",
       "      <td>...</td>\n",
       "      <td>...</td>\n",
       "      <td>...</td>\n",
       "    </tr>\n",
       "    <tr>\n",
       "      <th>82</th>\n",
       "      <td>82</td>\n",
       "      <td>Mercedes-Benz</td>\n",
       "      <td>Klasa E W210</td>\n",
       "      <td>2000.0</td>\n",
       "      <td>Diesel</td>\n",
       "      <td>2148.0</td>\n",
       "      <td>362653.0</td>\n",
       "      <td>8900.0</td>\n",
       "      <td>Lubelskie</td>\n",
       "    </tr>\n",
       "    <tr>\n",
       "      <th>989</th>\n",
       "      <td>989</td>\n",
       "      <td>BMW</td>\n",
       "      <td>Seria 5 E39</td>\n",
       "      <td>2002.0</td>\n",
       "      <td>Diesel</td>\n",
       "      <td>2926.0</td>\n",
       "      <td>404000.0</td>\n",
       "      <td>14900.0</td>\n",
       "      <td>Dolnośląskie</td>\n",
       "    </tr>\n",
       "    <tr>\n",
       "      <th>971</th>\n",
       "      <td>971</td>\n",
       "      <td>Mercedes-Benz</td>\n",
       "      <td>Klasa E W211</td>\n",
       "      <td>2003.0</td>\n",
       "      <td>Diesel</td>\n",
       "      <td>2685.0</td>\n",
       "      <td>441000.0</td>\n",
       "      <td>16900.0</td>\n",
       "      <td>Lubuskie</td>\n",
       "    </tr>\n",
       "    <tr>\n",
       "      <th>243</th>\n",
       "      <td>243</td>\n",
       "      <td>Volkswagen</td>\n",
       "      <td>Multivan</td>\n",
       "      <td>1994.0</td>\n",
       "      <td>Diesel</td>\n",
       "      <td>2400.0</td>\n",
       "      <td>503000.0</td>\n",
       "      <td>13900.0</td>\n",
       "      <td>Mazowieckie</td>\n",
       "    </tr>\n",
       "    <tr>\n",
       "      <th>238</th>\n",
       "      <td>238</td>\n",
       "      <td>Mercedes-Benz</td>\n",
       "      <td>W124 (1984-1993)</td>\n",
       "      <td>1991.0</td>\n",
       "      <td>Diesel</td>\n",
       "      <td>1997.0</td>\n",
       "      <td>647000.0</td>\n",
       "      <td>4000.0</td>\n",
       "      <td>Zachodniopomorskie</td>\n",
       "    </tr>\n",
       "  </tbody>\n",
       "</table>\n",
       "<p>1000 rows × 9 columns</p>\n",
       "</div>"
      ],
      "text/plain": [
       "      id          marka             model  rok_produkcji rodzaj_silnika  \\\n",
       "92    92           Jeep           Compass         2017.0         Diesel   \n",
       "32    32         Suzuki       SX4 S-Cross         2017.0        Benzyna   \n",
       "121  121        Hyundai         Tucson II         2017.0        Benzyna   \n",
       "837  837        Renault         Scenic IV         2017.0        Benzyna   \n",
       "836  836        Renault           Clio IV         2017.0        Benzyna   \n",
       "..   ...            ...               ...            ...            ...   \n",
       "82    82  Mercedes-Benz      Klasa E W210         2000.0         Diesel   \n",
       "989  989            BMW       Seria 5 E39         2002.0         Diesel   \n",
       "971  971  Mercedes-Benz      Klasa E W211         2003.0         Diesel   \n",
       "243  243     Volkswagen          Multivan         1994.0         Diesel   \n",
       "238  238  Mercedes-Benz  W124 (1984-1993)         1991.0         Diesel   \n",
       "\n",
       "     pojemnosc_silnika  przebieg      cena         wojewodztwo  \n",
       "92              1368.0       1.0  113900.0  Kujawsko-pomorskie  \n",
       "32               998.0       1.0   73900.0             Śląskie  \n",
       "121             1591.0       1.0   90860.0             Śląskie  \n",
       "837             1197.0       1.0   83900.0       Wielkopolskie  \n",
       "836             1200.0       1.0   42000.0         Mazowieckie  \n",
       "..                 ...       ...       ...                 ...  \n",
       "82              2148.0  362653.0    8900.0           Lubelskie  \n",
       "989             2926.0  404000.0   14900.0        Dolnośląskie  \n",
       "971             2685.0  441000.0   16900.0            Lubuskie  \n",
       "243             2400.0  503000.0   13900.0         Mazowieckie  \n",
       "238             1997.0  647000.0    4000.0  Zachodniopomorskie  \n",
       "\n",
       "[1000 rows x 9 columns]"
      ]
     },
     "execution_count": 127,
     "metadata": {},
     "output_type": "execute_result"
    }
   ],
   "source": [
    "df = pd.read_csv(\"samochody1tys.csv\")\n",
    "df2 = df.copy()\n",
    "dfSorted = df2.sort_values(by='przebieg')\n",
    "dfSorted"
   ]
  },
  {
   "cell_type": "markdown",
   "metadata": {},
   "source": [
    "# 2. zliczenie wartosci ktore nie są puste"
   ]
  },
  {
   "cell_type": "code",
   "execution_count": 128,
   "metadata": {},
   "outputs": [
    {
     "data": {
      "text/plain": [
       "id                   1000\n",
       "marka                1000\n",
       "model                1000\n",
       "rok_produkcji        1000\n",
       "rodzaj_silnika       1000\n",
       "pojemnosc_silnika    1000\n",
       "przebieg             1000\n",
       "cena                 1000\n",
       "wojewodztwo          1000\n",
       "dtype: int64"
      ]
     },
     "execution_count": 128,
     "metadata": {},
     "output_type": "execute_result"
    }
   ],
   "source": [
    "df2.count()"
   ]
  },
  {
   "cell_type": "markdown",
   "metadata": {},
   "source": [
    "# 3. indeksowanie danych wartoscia boolowska"
   ]
  },
  {
   "cell_type": "code",
   "execution_count": 129,
   "metadata": {},
   "outputs": [
    {
     "data": {
      "text/plain": [
       "[0       True\n",
       " 1       True\n",
       " 2      False\n",
       " 3      False\n",
       " 4      False\n",
       "        ...  \n",
       " 995    False\n",
       " 996     True\n",
       " 997    False\n",
       " 998    False\n",
       " 999     True\n",
       " Name: rok_produkcji, Length: 1000, dtype: bool]"
      ]
     },
     "execution_count": 129,
     "metadata": {},
     "output_type": "execute_result"
    }
   ],
   "source": [
    "[df['rok_produkcji']>2010]"
   ]
  },
  {
   "cell_type": "markdown",
   "metadata": {},
   "source": [
    "# 4. funkcje"
   ]
  },
  {
   "cell_type": "code",
   "execution_count": 130,
   "metadata": {},
   "outputs": [
    {
     "data": {
      "text/html": [
       "<div>\n",
       "<style scoped>\n",
       "    .dataframe tbody tr th:only-of-type {\n",
       "        vertical-align: middle;\n",
       "    }\n",
       "\n",
       "    .dataframe tbody tr th {\n",
       "        vertical-align: top;\n",
       "    }\n",
       "\n",
       "    .dataframe thead th {\n",
       "        text-align: right;\n",
       "    }\n",
       "</style>\n",
       "<table border=\"1\" class=\"dataframe\">\n",
       "  <thead>\n",
       "    <tr style=\"text-align: right;\">\n",
       "      <th></th>\n",
       "      <th>id</th>\n",
       "      <th>marka</th>\n",
       "      <th>model</th>\n",
       "      <th>rok_produkcji</th>\n",
       "      <th>rodzaj_silnika</th>\n",
       "      <th>pojemnosc_silnika</th>\n",
       "      <th>przebieg</th>\n",
       "      <th>cena</th>\n",
       "      <th>wojewodztwo</th>\n",
       "    </tr>\n",
       "  </thead>\n",
       "  <tbody>\n",
       "    <tr>\n",
       "      <th>0</th>\n",
       "      <td>0</td>\n",
       "      <td>NissanNissan</td>\n",
       "      <td>X-Trail IIIX-Trail III</td>\n",
       "      <td>4028.0</td>\n",
       "      <td>DieselDiesel</td>\n",
       "      <td>3200.0</td>\n",
       "      <td>320000.0</td>\n",
       "      <td>151800.0</td>\n",
       "      <td>DolnośląskieDolnośląskie</td>\n",
       "    </tr>\n",
       "    <tr>\n",
       "      <th>1</th>\n",
       "      <td>2</td>\n",
       "      <td>BMWBMW</td>\n",
       "      <td>X1 E84X1 E84</td>\n",
       "      <td>4024.0</td>\n",
       "      <td>DieselDiesel</td>\n",
       "      <td>4000.0</td>\n",
       "      <td>298000.0</td>\n",
       "      <td>141800.0</td>\n",
       "      <td>ŚwiętokrzyskieŚwiętokrzyskie</td>\n",
       "    </tr>\n",
       "    <tr>\n",
       "      <th>2</th>\n",
       "      <td>4</td>\n",
       "      <td>OpelOpel</td>\n",
       "      <td>Zafira AZafira A</td>\n",
       "      <td>4008.0</td>\n",
       "      <td>Benzyna+CNGBenzyna+CNG</td>\n",
       "      <td>3200.0</td>\n",
       "      <td>198000.0</td>\n",
       "      <td>19600.0</td>\n",
       "      <td>OpolskieOpolskie</td>\n",
       "    </tr>\n",
       "    <tr>\n",
       "      <th>3</th>\n",
       "      <td>6</td>\n",
       "      <td>HyundaiHyundai</td>\n",
       "      <td>i10 Ii10 I</td>\n",
       "      <td>4016.0</td>\n",
       "      <td>BenzynaBenzyna</td>\n",
       "      <td>2200.0</td>\n",
       "      <td>186000.0</td>\n",
       "      <td>23800.0</td>\n",
       "      <td>ŁódzkieŁódzkie</td>\n",
       "    </tr>\n",
       "    <tr>\n",
       "      <th>4</th>\n",
       "      <td>8</td>\n",
       "      <td>VolkswagenVolkswagen</td>\n",
       "      <td>CCCC</td>\n",
       "      <td>4020.0</td>\n",
       "      <td>DieselDiesel</td>\n",
       "      <td>3936.0</td>\n",
       "      <td>254856.0</td>\n",
       "      <td>99800.0</td>\n",
       "      <td>WielkopolskieWielkopolskie</td>\n",
       "    </tr>\n",
       "    <tr>\n",
       "      <th>...</th>\n",
       "      <td>...</td>\n",
       "      <td>...</td>\n",
       "      <td>...</td>\n",
       "      <td>...</td>\n",
       "      <td>...</td>\n",
       "      <td>...</td>\n",
       "      <td>...</td>\n",
       "      <td>...</td>\n",
       "      <td>...</td>\n",
       "    </tr>\n",
       "    <tr>\n",
       "      <th>995</th>\n",
       "      <td>1990</td>\n",
       "      <td>Alfa RomeoAlfa Romeo</td>\n",
       "      <td>159159</td>\n",
       "      <td>4018.0</td>\n",
       "      <td>DieselDiesel</td>\n",
       "      <td>4774.0</td>\n",
       "      <td>364000.0</td>\n",
       "      <td>67800.0</td>\n",
       "      <td>MałopolskieMałopolskie</td>\n",
       "    </tr>\n",
       "    <tr>\n",
       "      <th>996</th>\n",
       "      <td>1992</td>\n",
       "      <td>ŠkodaŠkoda</td>\n",
       "      <td>Fabia IIFabia II</td>\n",
       "      <td>4024.0</td>\n",
       "      <td>BenzynaBenzyna</td>\n",
       "      <td>2400.0</td>\n",
       "      <td>85400.0</td>\n",
       "      <td>50800.0</td>\n",
       "      <td>LubelskieLubelskie</td>\n",
       "    </tr>\n",
       "    <tr>\n",
       "      <th>997</th>\n",
       "      <td>1994</td>\n",
       "      <td>RenaultRenault</td>\n",
       "      <td>ModusModus</td>\n",
       "      <td>4008.0</td>\n",
       "      <td>BenzynaBenzyna</td>\n",
       "      <td>2400.0</td>\n",
       "      <td>336222.0</td>\n",
       "      <td>21800.0</td>\n",
       "      <td>ŁódzkieŁódzkie</td>\n",
       "    </tr>\n",
       "    <tr>\n",
       "      <th>998</th>\n",
       "      <td>1996</td>\n",
       "      <td>AudiAudi</td>\n",
       "      <td>A3 8LA3 8L</td>\n",
       "      <td>4000.0</td>\n",
       "      <td>BenzynaBenzyna</td>\n",
       "      <td>3190.0</td>\n",
       "      <td>453000.0</td>\n",
       "      <td>10800.0</td>\n",
       "      <td>MałopolskieMałopolskie</td>\n",
       "    </tr>\n",
       "    <tr>\n",
       "      <th>999</th>\n",
       "      <td>1998</td>\n",
       "      <td>VolvoVolvo</td>\n",
       "      <td>XC 60 IXC 60 I</td>\n",
       "      <td>4032.0</td>\n",
       "      <td>DieselDiesel</td>\n",
       "      <td>3938.0</td>\n",
       "      <td>27234.0</td>\n",
       "      <td>273800.0</td>\n",
       "      <td>MałopolskieMałopolskie</td>\n",
       "    </tr>\n",
       "  </tbody>\n",
       "</table>\n",
       "<p>1000 rows × 9 columns</p>\n",
       "</div>"
      ],
      "text/plain": [
       "       id                 marka                   model  rok_produkcji  \\\n",
       "0       0          NissanNissan  X-Trail IIIX-Trail III         4028.0   \n",
       "1       2                BMWBMW            X1 E84X1 E84         4024.0   \n",
       "2       4              OpelOpel        Zafira AZafira A         4008.0   \n",
       "3       6        HyundaiHyundai              i10 Ii10 I         4016.0   \n",
       "4       8  VolkswagenVolkswagen                    CCCC         4020.0   \n",
       "..    ...                   ...                     ...            ...   \n",
       "995  1990  Alfa RomeoAlfa Romeo                  159159         4018.0   \n",
       "996  1992            ŠkodaŠkoda        Fabia IIFabia II         4024.0   \n",
       "997  1994        RenaultRenault              ModusModus         4008.0   \n",
       "998  1996              AudiAudi              A3 8LA3 8L         4000.0   \n",
       "999  1998            VolvoVolvo          XC 60 IXC 60 I         4032.0   \n",
       "\n",
       "             rodzaj_silnika  pojemnosc_silnika  przebieg      cena  \\\n",
       "0              DieselDiesel             3200.0  320000.0  151800.0   \n",
       "1              DieselDiesel             4000.0  298000.0  141800.0   \n",
       "2    Benzyna+CNGBenzyna+CNG             3200.0  198000.0   19600.0   \n",
       "3            BenzynaBenzyna             2200.0  186000.0   23800.0   \n",
       "4              DieselDiesel             3936.0  254856.0   99800.0   \n",
       "..                      ...                ...       ...       ...   \n",
       "995            DieselDiesel             4774.0  364000.0   67800.0   \n",
       "996          BenzynaBenzyna             2400.0   85400.0   50800.0   \n",
       "997          BenzynaBenzyna             2400.0  336222.0   21800.0   \n",
       "998          BenzynaBenzyna             3190.0  453000.0   10800.0   \n",
       "999            DieselDiesel             3938.0   27234.0  273800.0   \n",
       "\n",
       "                      wojewodztwo  \n",
       "0        DolnośląskieDolnośląskie  \n",
       "1    ŚwiętokrzyskieŚwiętokrzyskie  \n",
       "2                OpolskieOpolskie  \n",
       "3                  ŁódzkieŁódzkie  \n",
       "4      WielkopolskieWielkopolskie  \n",
       "..                            ...  \n",
       "995        MałopolskieMałopolskie  \n",
       "996            LubelskieLubelskie  \n",
       "997                ŁódzkieŁódzkie  \n",
       "998        MałopolskieMałopolskie  \n",
       "999        MałopolskieMałopolskie  \n",
       "\n",
       "[1000 rows x 9 columns]"
      ]
     },
     "execution_count": 130,
     "metadata": {},
     "output_type": "execute_result"
    }
   ],
   "source": [
    "f = lambda x: x*2\n",
    "df2.apply(f)"
   ]
  },
  {
   "cell_type": "markdown",
   "metadata": {},
   "source": [
    "# 5. Usuwanie kolumny"
   ]
  },
  {
   "cell_type": "code",
   "execution_count": 131,
   "metadata": {
    "scrolled": true
   },
   "outputs": [
    {
     "data": {
      "text/html": [
       "<div>\n",
       "<style scoped>\n",
       "    .dataframe tbody tr th:only-of-type {\n",
       "        vertical-align: middle;\n",
       "    }\n",
       "\n",
       "    .dataframe tbody tr th {\n",
       "        vertical-align: top;\n",
       "    }\n",
       "\n",
       "    .dataframe thead th {\n",
       "        text-align: right;\n",
       "    }\n",
       "</style>\n",
       "<table border=\"1\" class=\"dataframe\">\n",
       "  <thead>\n",
       "    <tr style=\"text-align: right;\">\n",
       "      <th></th>\n",
       "      <th>id</th>\n",
       "      <th>marka</th>\n",
       "      <th>rok_produkcji</th>\n",
       "      <th>rodzaj_silnika</th>\n",
       "      <th>pojemnosc_silnika</th>\n",
       "      <th>przebieg</th>\n",
       "      <th>cena</th>\n",
       "      <th>wojewodztwo</th>\n",
       "    </tr>\n",
       "  </thead>\n",
       "  <tbody>\n",
       "    <tr>\n",
       "      <th>0</th>\n",
       "      <td>0</td>\n",
       "      <td>Nissan</td>\n",
       "      <td>2014.0</td>\n",
       "      <td>Diesel</td>\n",
       "      <td>1600.0</td>\n",
       "      <td>160000.0</td>\n",
       "      <td>75900.0</td>\n",
       "      <td>Dolnośląskie</td>\n",
       "    </tr>\n",
       "    <tr>\n",
       "      <th>1</th>\n",
       "      <td>1</td>\n",
       "      <td>BMW</td>\n",
       "      <td>2012.0</td>\n",
       "      <td>Diesel</td>\n",
       "      <td>2000.0</td>\n",
       "      <td>149000.0</td>\n",
       "      <td>70900.0</td>\n",
       "      <td>Świętokrzyskie</td>\n",
       "    </tr>\n",
       "    <tr>\n",
       "      <th>2</th>\n",
       "      <td>2</td>\n",
       "      <td>Opel</td>\n",
       "      <td>2004.0</td>\n",
       "      <td>Benzyna+CNG</td>\n",
       "      <td>1600.0</td>\n",
       "      <td>99000.0</td>\n",
       "      <td>9800.0</td>\n",
       "      <td>Opolskie</td>\n",
       "    </tr>\n",
       "    <tr>\n",
       "      <th>3</th>\n",
       "      <td>3</td>\n",
       "      <td>Hyundai</td>\n",
       "      <td>2008.0</td>\n",
       "      <td>Benzyna</td>\n",
       "      <td>1100.0</td>\n",
       "      <td>93000.0</td>\n",
       "      <td>11900.0</td>\n",
       "      <td>Łódzkie</td>\n",
       "    </tr>\n",
       "    <tr>\n",
       "      <th>4</th>\n",
       "      <td>4</td>\n",
       "      <td>Volkswagen</td>\n",
       "      <td>2010.0</td>\n",
       "      <td>Diesel</td>\n",
       "      <td>1968.0</td>\n",
       "      <td>127428.0</td>\n",
       "      <td>49900.0</td>\n",
       "      <td>Wielkopolskie</td>\n",
       "    </tr>\n",
       "    <tr>\n",
       "      <th>...</th>\n",
       "      <td>...</td>\n",
       "      <td>...</td>\n",
       "      <td>...</td>\n",
       "      <td>...</td>\n",
       "      <td>...</td>\n",
       "      <td>...</td>\n",
       "      <td>...</td>\n",
       "      <td>...</td>\n",
       "    </tr>\n",
       "    <tr>\n",
       "      <th>995</th>\n",
       "      <td>995</td>\n",
       "      <td>Alfa Romeo</td>\n",
       "      <td>2009.0</td>\n",
       "      <td>Diesel</td>\n",
       "      <td>2387.0</td>\n",
       "      <td>182000.0</td>\n",
       "      <td>33900.0</td>\n",
       "      <td>Małopolskie</td>\n",
       "    </tr>\n",
       "    <tr>\n",
       "      <th>996</th>\n",
       "      <td>996</td>\n",
       "      <td>Škoda</td>\n",
       "      <td>2012.0</td>\n",
       "      <td>Benzyna</td>\n",
       "      <td>1200.0</td>\n",
       "      <td>42700.0</td>\n",
       "      <td>25400.0</td>\n",
       "      <td>Lubelskie</td>\n",
       "    </tr>\n",
       "    <tr>\n",
       "      <th>997</th>\n",
       "      <td>997</td>\n",
       "      <td>Renault</td>\n",
       "      <td>2004.0</td>\n",
       "      <td>Benzyna</td>\n",
       "      <td>1200.0</td>\n",
       "      <td>168111.0</td>\n",
       "      <td>10900.0</td>\n",
       "      <td>Łódzkie</td>\n",
       "    </tr>\n",
       "    <tr>\n",
       "      <th>998</th>\n",
       "      <td>998</td>\n",
       "      <td>Audi</td>\n",
       "      <td>2000.0</td>\n",
       "      <td>Benzyna</td>\n",
       "      <td>1595.0</td>\n",
       "      <td>226500.0</td>\n",
       "      <td>5400.0</td>\n",
       "      <td>Małopolskie</td>\n",
       "    </tr>\n",
       "    <tr>\n",
       "      <th>999</th>\n",
       "      <td>999</td>\n",
       "      <td>Volvo</td>\n",
       "      <td>2016.0</td>\n",
       "      <td>Diesel</td>\n",
       "      <td>1969.0</td>\n",
       "      <td>13617.0</td>\n",
       "      <td>136900.0</td>\n",
       "      <td>Małopolskie</td>\n",
       "    </tr>\n",
       "  </tbody>\n",
       "</table>\n",
       "<p>1000 rows × 8 columns</p>\n",
       "</div>"
      ],
      "text/plain": [
       "      id       marka  rok_produkcji rodzaj_silnika  pojemnosc_silnika  \\\n",
       "0      0      Nissan         2014.0         Diesel             1600.0   \n",
       "1      1         BMW         2012.0         Diesel             2000.0   \n",
       "2      2        Opel         2004.0    Benzyna+CNG             1600.0   \n",
       "3      3     Hyundai         2008.0        Benzyna             1100.0   \n",
       "4      4  Volkswagen         2010.0         Diesel             1968.0   \n",
       "..   ...         ...            ...            ...                ...   \n",
       "995  995  Alfa Romeo         2009.0         Diesel             2387.0   \n",
       "996  996       Škoda         2012.0        Benzyna             1200.0   \n",
       "997  997     Renault         2004.0        Benzyna             1200.0   \n",
       "998  998        Audi         2000.0        Benzyna             1595.0   \n",
       "999  999       Volvo         2016.0         Diesel             1969.0   \n",
       "\n",
       "     przebieg      cena     wojewodztwo  \n",
       "0    160000.0   75900.0    Dolnośląskie  \n",
       "1    149000.0   70900.0  Świętokrzyskie  \n",
       "2     99000.0    9800.0        Opolskie  \n",
       "3     93000.0   11900.0         Łódzkie  \n",
       "4    127428.0   49900.0   Wielkopolskie  \n",
       "..        ...       ...             ...  \n",
       "995  182000.0   33900.0     Małopolskie  \n",
       "996   42700.0   25400.0       Lubelskie  \n",
       "997  168111.0   10900.0         Łódzkie  \n",
       "998  226500.0    5400.0     Małopolskie  \n",
       "999   13617.0  136900.0     Małopolskie  \n",
       "\n",
       "[1000 rows x 8 columns]"
      ]
     },
     "execution_count": 131,
     "metadata": {},
     "output_type": "execute_result"
    }
   ],
   "source": [
    "df.drop('model', axis=1)"
   ]
  },
  {
   "cell_type": "markdown",
   "metadata": {},
   "source": [
    "# Scikit-learn"
   ]
  },
  {
   "cell_type": "code",
   "execution_count": 142,
   "metadata": {},
   "outputs": [
    {
     "ename": "ValueError",
     "evalue": "Found input variables with inconsistent numbers of samples: [10, 11]",
     "output_type": "error",
     "traceback": [
      "\u001b[1;31m---------------------------------------------------------------------------\u001b[0m",
      "\u001b[1;31mValueError\u001b[0m                                Traceback (most recent call last)",
      "\u001b[1;32m<ipython-input-142-2181feae344c>\u001b[0m in \u001b[0;36m<module>\u001b[1;34m\u001b[0m\n\u001b[0;32m      1\u001b[0m \u001b[1;32mfrom\u001b[0m \u001b[0msklearn\u001b[0m\u001b[1;33m.\u001b[0m\u001b[0mmodel_selection\u001b[0m \u001b[1;32mimport\u001b[0m \u001b[0mtrain_test_split\u001b[0m\u001b[1;33m\u001b[0m\u001b[1;33m\u001b[0m\u001b[0m\n\u001b[1;32m----> 2\u001b[1;33m \u001b[0mX_train\u001b[0m\u001b[1;33m,\u001b[0m \u001b[0mX_test\u001b[0m\u001b[1;33m,\u001b[0m \u001b[0my_train\u001b[0m\u001b[1;33m,\u001b[0m \u001b[0my_test\u001b[0m \u001b[1;33m=\u001b[0m \u001b[0mtrain_test_split\u001b[0m\u001b[1;33m(\u001b[0m\u001b[0mX\u001b[0m\u001b[1;33m,\u001b[0m\u001b[0my\u001b[0m\u001b[1;33m,\u001b[0m\u001b[0mrandom_state\u001b[0m\u001b[1;33m=\u001b[0m\u001b[1;36m0\u001b[0m\u001b[1;33m)\u001b[0m\u001b[1;33m\u001b[0m\u001b[1;33m\u001b[0m\u001b[0m\n\u001b[0m",
      "\u001b[1;32mc:\\users\\dzem0\\pycharmprojects\\pythonproject\\venv\\lib\\site-packages\\sklearn\\model_selection\\_split.py\u001b[0m in \u001b[0;36mtrain_test_split\u001b[1;34m(*arrays, **options)\u001b[0m\n\u001b[0;32m   2125\u001b[0m         \u001b[1;32mraise\u001b[0m \u001b[0mTypeError\u001b[0m\u001b[1;33m(\u001b[0m\u001b[1;34m\"Invalid parameters passed: %s\"\u001b[0m \u001b[1;33m%\u001b[0m \u001b[0mstr\u001b[0m\u001b[1;33m(\u001b[0m\u001b[0moptions\u001b[0m\u001b[1;33m)\u001b[0m\u001b[1;33m)\u001b[0m\u001b[1;33m\u001b[0m\u001b[1;33m\u001b[0m\u001b[0m\n\u001b[0;32m   2126\u001b[0m \u001b[1;33m\u001b[0m\u001b[0m\n\u001b[1;32m-> 2127\u001b[1;33m     \u001b[0marrays\u001b[0m \u001b[1;33m=\u001b[0m \u001b[0mindexable\u001b[0m\u001b[1;33m(\u001b[0m\u001b[1;33m*\u001b[0m\u001b[0marrays\u001b[0m\u001b[1;33m)\u001b[0m\u001b[1;33m\u001b[0m\u001b[1;33m\u001b[0m\u001b[0m\n\u001b[0m\u001b[0;32m   2128\u001b[0m \u001b[1;33m\u001b[0m\u001b[0m\n\u001b[0;32m   2129\u001b[0m     \u001b[0mn_samples\u001b[0m \u001b[1;33m=\u001b[0m \u001b[0m_num_samples\u001b[0m\u001b[1;33m(\u001b[0m\u001b[0marrays\u001b[0m\u001b[1;33m[\u001b[0m\u001b[1;36m0\u001b[0m\u001b[1;33m]\u001b[0m\u001b[1;33m)\u001b[0m\u001b[1;33m\u001b[0m\u001b[1;33m\u001b[0m\u001b[0m\n",
      "\u001b[1;32mc:\\users\\dzem0\\pycharmprojects\\pythonproject\\venv\\lib\\site-packages\\sklearn\\utils\\validation.py\u001b[0m in \u001b[0;36mindexable\u001b[1;34m(*iterables)\u001b[0m\n\u001b[0;32m    290\u001b[0m     \"\"\"\n\u001b[0;32m    291\u001b[0m     \u001b[0mresult\u001b[0m \u001b[1;33m=\u001b[0m \u001b[1;33m[\u001b[0m\u001b[0m_make_indexable\u001b[0m\u001b[1;33m(\u001b[0m\u001b[0mX\u001b[0m\u001b[1;33m)\u001b[0m \u001b[1;32mfor\u001b[0m \u001b[0mX\u001b[0m \u001b[1;32min\u001b[0m \u001b[0miterables\u001b[0m\u001b[1;33m]\u001b[0m\u001b[1;33m\u001b[0m\u001b[1;33m\u001b[0m\u001b[0m\n\u001b[1;32m--> 292\u001b[1;33m     \u001b[0mcheck_consistent_length\u001b[0m\u001b[1;33m(\u001b[0m\u001b[1;33m*\u001b[0m\u001b[0mresult\u001b[0m\u001b[1;33m)\u001b[0m\u001b[1;33m\u001b[0m\u001b[1;33m\u001b[0m\u001b[0m\n\u001b[0m\u001b[0;32m    293\u001b[0m     \u001b[1;32mreturn\u001b[0m \u001b[0mresult\u001b[0m\u001b[1;33m\u001b[0m\u001b[1;33m\u001b[0m\u001b[0m\n\u001b[0;32m    294\u001b[0m \u001b[1;33m\u001b[0m\u001b[0m\n",
      "\u001b[1;32mc:\\users\\dzem0\\pycharmprojects\\pythonproject\\venv\\lib\\site-packages\\sklearn\\utils\\validation.py\u001b[0m in \u001b[0;36mcheck_consistent_length\u001b[1;34m(*arrays)\u001b[0m\n\u001b[0;32m    253\u001b[0m     \u001b[0muniques\u001b[0m \u001b[1;33m=\u001b[0m \u001b[0mnp\u001b[0m\u001b[1;33m.\u001b[0m\u001b[0munique\u001b[0m\u001b[1;33m(\u001b[0m\u001b[0mlengths\u001b[0m\u001b[1;33m)\u001b[0m\u001b[1;33m\u001b[0m\u001b[1;33m\u001b[0m\u001b[0m\n\u001b[0;32m    254\u001b[0m     \u001b[1;32mif\u001b[0m \u001b[0mlen\u001b[0m\u001b[1;33m(\u001b[0m\u001b[0muniques\u001b[0m\u001b[1;33m)\u001b[0m \u001b[1;33m>\u001b[0m \u001b[1;36m1\u001b[0m\u001b[1;33m:\u001b[0m\u001b[1;33m\u001b[0m\u001b[1;33m\u001b[0m\u001b[0m\n\u001b[1;32m--> 255\u001b[1;33m         raise ValueError(\"Found input variables with inconsistent numbers of\"\n\u001b[0m\u001b[0;32m    256\u001b[0m                          \" samples: %r\" % [int(l) for l in lengths])\n\u001b[0;32m    257\u001b[0m \u001b[1;33m\u001b[0m\u001b[0m\n",
      "\u001b[1;31mValueError\u001b[0m: Found input variables with inconsistent numbers of samples: [10, 11]"
     ]
    }
   ],
   "source": [
    " from sklearn.model_selection import train_test_split\n",
    "X_train, X_test, y_train, y_test = train_test_split(X,y,random_state=0)"
   ]
  },
  {
   "cell_type": "markdown",
   "metadata": {},
   "source": [
    "# 1. Standarization"
   ]
  },
  {
   "cell_type": "code",
   "execution_count": 148,
   "metadata": {},
   "outputs": [],
   "source": [
    "X = np.random.random((10,5))\n",
    "y = np.array(['M','M','F','F','M','F','M','M','F','F'])\n",
    "X[X < 0.7] = 0\n",
    "\n",
    "X_train, X_test, y_train, y_test = train_test_split(X,y,random_state=0)"
   ]
  },
  {
   "cell_type": "code",
   "execution_count": 154,
   "metadata": {},
   "outputs": [
    {
     "name": "stdout",
     "output_type": "stream",
     "text": [
      "[[-0.63072438  0.20493985  2.05989577 -0.63245527  1.84902656]\n",
      " [-0.63072438 -1.55759006 -0.40824829  1.4074697  -0.63119612]\n",
      " [-0.63072438  0.4486189  -0.40824829 -0.63245527 -0.63119612]]\n"
     ]
    }
   ],
   "source": [
    "from sklearn.preprocessing import StandardScaler\n",
    "scaler = StandardScaler().fit(X_train)\n",
    "standardized_X = scaler.transform(X_train)\n",
    "standardized_X_test = scaler.transform(X_test)\n",
    "print(standardized_X_test)"
   ]
  },
  {
   "cell_type": "markdown",
   "metadata": {},
   "source": [
    "# 2. Normalization"
   ]
  },
  {
   "cell_type": "code",
   "execution_count": 156,
   "metadata": {},
   "outputs": [
    {
     "name": "stdout",
     "output_type": "stream",
     "text": [
      "[[0.         0.50582819 0.56604598 0.         0.65094531]\n",
      " [0.         0.         0.         1.         0.        ]\n",
      " [0.         1.         0.         0.         0.        ]]\n"
     ]
    }
   ],
   "source": [
    "from sklearn.preprocessing import Normalizer\n",
    "scaler = Normalizer().fit(X_train)\n",
    "normalized_X = scaler.transform(X_train)\n",
    "normalized_X_test = scaler.transform(X_test)\n",
    "print(normalized_X_test)"
   ]
  },
  {
   "cell_type": "markdown",
   "metadata": {},
   "source": [
    "# 3. Binarization"
   ]
  },
  {
   "cell_type": "code",
   "execution_count": 158,
   "metadata": {},
   "outputs": [
    {
     "name": "stdout",
     "output_type": "stream",
     "text": [
      "[[0. 1. 0. 1. 1.]\n",
      " [0. 1. 0. 0. 0.]\n",
      " [0. 1. 1. 0. 1.]\n",
      " [0. 1. 1. 0. 0.]\n",
      " [0. 1. 0. 0. 0.]\n",
      " [0. 1. 0. 0. 0.]\n",
      " [0. 1. 0. 0. 0.]\n",
      " [1. 0. 0. 1. 1.]\n",
      " [0. 0. 0. 1. 0.]\n",
      " [1. 0. 0. 0. 0.]]\n"
     ]
    }
   ],
   "source": [
    "from sklearn.preprocessing import Binarizer\n",
    "binarizer = Binarizer(threshold=0.0).fit(X)\n",
    "binary_X = binarizer.transform(X)\n",
    "print(binary_X)"
   ]
  },
  {
   "cell_type": "markdown",
   "metadata": {},
   "source": [
    "# 4. Encoding Categorical Features"
   ]
  },
  {
   "cell_type": "code",
   "execution_count": 160,
   "metadata": {},
   "outputs": [
    {
     "data": {
      "text/plain": [
       "array([1, 1, 0, 0, 1, 0, 1, 1, 0, 0], dtype=int64)"
      ]
     },
     "execution_count": 160,
     "metadata": {},
     "output_type": "execute_result"
    }
   ],
   "source": [
    "from sklearn.preprocessing import LabelEncoder\n",
    "enc = LabelEncoder()\n",
    "y = enc.fit_transform(y)\n",
    "y"
   ]
  },
  {
   "cell_type": "markdown",
   "metadata": {},
   "source": [
    "# 5. Generating polynomial features"
   ]
  },
  {
   "cell_type": "code",
   "execution_count": 162,
   "metadata": {},
   "outputs": [
    {
     "data": {
      "text/plain": [
       "array([[1.        , 0.        , 0.75643805, ..., 0.43621575, 0.37287971,\n",
       "        0.31873971],\n",
       "       [1.        , 0.        , 0.97844599, ..., 0.        , 0.        ,\n",
       "        0.        ],\n",
       "       [1.        , 0.        , 0.73323767, ..., 0.        , 0.        ,\n",
       "        0.74805106],\n",
       "       ...,\n",
       "       [1.        , 0.87559887, 0.        , ..., 0.60307555, 0.57280287,\n",
       "        0.54404979],\n",
       "       [1.        , 0.        , 0.        , ..., 0.        , 0.        ,\n",
       "        0.        ],\n",
       "       [1.        , 0.99266613, 0.        , ..., 0.        , 0.        ,\n",
       "        0.        ]])"
      ]
     },
     "execution_count": 162,
     "metadata": {},
     "output_type": "execute_result"
    }
   ],
   "source": [
    "from sklearn.preprocessing import PolynomialFeatures\n",
    "poly = PolynomialFeatures(5)\n",
    "poly.fit_transform(X) "
   ]
  },
  {
   "cell_type": "markdown",
   "metadata": {},
   "source": [
    "# matplotlib"
   ]
  },
  {
   "cell_type": "markdown",
   "metadata": {},
   "source": [
    "# 1. przygotowanie danych i stworzenie podstawowego wykresu"
   ]
  },
  {
   "cell_type": "code",
   "execution_count": 166,
   "metadata": {},
   "outputs": [
    {
     "name": "stderr",
     "output_type": "stream",
     "text": [
      "<ipython-input-166-a1337228183c>:7: MatplotlibDeprecationWarning: Calling add_axes() without argument is deprecated since 3.3 and will be removed two minor releases later. You may want to use add_subplot() instead.\n",
      "  fig.add_axes()\n"
     ]
    },
    {
     "data": {
      "image/png": "[encoded data removed]",
      "text/plain": [
       "<Figure size 432x288 with 2 Axes>"
      ]
     },
     "metadata": {
      "needs_background": "light"
     },
     "output_type": "display_data"
    },
    {
     "data": {
      "text/plain": [
       "<Figure size 288x576 with 0 Axes>"
      ]
     },
     "metadata": {},
     "output_type": "display_data"
    },
    {
     "data": {
      "image/png": "[encoded data removed]",
      "text/plain": [
       "<Figure size 432x288 with 4 Axes>"
      ]
     },
     "metadata": {
      "needs_background": "light"
     },
     "output_type": "display_data"
    },
    {
     "data": {
      "image/png": "[encoded data removed]",
      "text/plain": [
       "<Figure size 432x288 with 3 Axes>"
      ]
     },
     "metadata": {
      "needs_background": "light"
     },
     "output_type": "display_data"
    }
   ],
   "source": [
    " import matplotlib.pyplot as plt\n",
    "x = np.linspace(0, 10, 100)\n",
    "y = np.cos(x)\n",
    "z = np.sin(x)\n",
    "fig = plt.figure()\n",
    "fig2 = plt.figure(figsize=plt.figaspect(2.0))\n",
    "fig.add_axes()\n",
    "ax1 = fig.add_subplot(221) # row-col-num\n",
    "ax3 = fig.add_subplot(212)\n",
    "fig3, axes = plt.subplots(nrows=2,ncols=2)\n",
    "fig4, axes2 = plt.subplots(ncols=3)"
   ]
  },
  {
   "cell_type": "markdown",
   "metadata": {},
   "source": [
    "# 2. style linii"
   ]
  },
  {
   "cell_type": "code",
   "execution_count": 167,
   "metadata": {},
   "outputs": [
    {
     "data": {
      "text/plain": [
       "[<matplotlib.lines.Line2D at 0x2c9b2872430>]"
      ]
     },
     "execution_count": 167,
     "metadata": {},
     "output_type": "execute_result"
    },
    {
     "data": {
      "image/png": "[encoded data removed]",
      "text/plain": [
       "<Figure size 432x288 with 1 Axes>"
      ]
     },
     "metadata": {
      "needs_background": "light"
     },
     "output_type": "display_data"
    }
   ],
   "source": [
    "plt.plot(x,y,ls='solid') "
   ]
  },
  {
   "cell_type": "markdown",
   "metadata": {},
   "source": [
    "# 3. dodanie tytułu do wykresu"
   ]
  },
  {
   "cell_type": "code",
   "execution_count": 172,
   "metadata": {},
   "outputs": [
    {
     "data": {
      "text/plain": [
       "[<matplotlib.lines.Line2D at 0x2c9b2f4cd30>]"
      ]
     },
     "execution_count": 172,
     "metadata": {},
     "output_type": "execute_result"
    },
    {
     "data": {
      "image/png": "[encoded data removed]",
      "text/plain": [
       "<Figure size 432x288 with 1 Axes>"
      ]
     },
     "metadata": {
      "needs_background": "light"
     },
     "output_type": "display_data"
    }
   ],
   "source": [
    "plt.title('example title', fontsize=20)\n",
    "plt.plot(x,y)"
   ]
  },
  {
   "cell_type": "markdown",
   "metadata": {},
   "source": [
    "# 4. Znaczniki"
   ]
  },
  {
   "cell_type": "code",
   "execution_count": 173,
   "metadata": {},
   "outputs": [
    {
     "data": {
      "text/plain": [
       "[<matplotlib.lines.Line2D at 0x2c9b2fa1550>]"
      ]
     },
     "execution_count": 173,
     "metadata": {},
     "output_type": "execute_result"
    },
    {
     "data": {
      "image/png": "[encoded data removed]",
      "text/plain": [
       "<Figure size 432x288 with 1 Axes>"
      ]
     },
     "metadata": {
      "needs_background": "light"
     },
     "output_type": "display_data"
    }
   ],
   "source": [
    "fig, ax = plt.subplots()\n",
    "ax.scatter(x,y,marker=\".\")\n",
    "ax.plot(x,y,marker=\"o\")"
   ]
  },
  {
   "cell_type": "markdown",
   "metadata": {},
   "source": [
    "# 5. przesuniecie osi "
   ]
  },
  {
   "cell_type": "code",
   "execution_count": 184,
   "metadata": {},
   "outputs": [
    {
     "data": {
      "text/plain": [
       "[<matplotlib.lines.Line2D at 0x2c9b34242b0>]"
      ]
     },
     "execution_count": 184,
     "metadata": {},
     "output_type": "execute_result"
    },
    {
     "data": {
      "image/png": "[encoded data removed]",
      "text/plain": [
       "<Figure size 432x288 with 1 Axes>"
      ]
     },
     "metadata": {
      "needs_background": "light"
     },
     "output_type": "display_data"
    }
   ],
   "source": [
    "fig, ax1 = plt.subplots()\n",
    "ax1.spines['bottom'].set_position(('outward',10))\n",
    "ax1.plot(x,y, marker=\"o\")"
   ]
  },
  {
   "cell_type": "markdown",
   "metadata": {},
   "source": [
    "# Seaborn"
   ]
  },
  {
   "cell_type": "code",
   "execution_count": 185,
   "metadata": {},
   "outputs": [],
   "source": [
    "import matplotlib.pyplot as plt\n",
    "import seaborn as sns"
   ]
  },
  {
   "cell_type": "markdown",
   "metadata": {},
   "source": [
    "# Przygotowanie danych "
   ]
  },
  {
   "cell_type": "code",
   "execution_count": 186,
   "metadata": {},
   "outputs": [],
   "source": [
    "uniform_data = np.random.rand(10, 12)\n",
    "data = pd.DataFrame({'x':np.arange(1,101), 'y':np.random.normal(0,4,100)})"
   ]
  },
  {
   "cell_type": "markdown",
   "metadata": {},
   "source": [
    "# 1. Boxplot"
   ]
  },
  {
   "cell_type": "code",
   "execution_count": 187,
   "metadata": {},
   "outputs": [
    {
     "data": {
      "text/plain": [
       "<AxesSubplot:>"
      ]
     },
     "execution_count": 187,
     "metadata": {},
     "output_type": "execute_result"
    },
    {
     "data": {
      "image/png": "[encoded data removed]",
      "text/plain": [
       "<Figure size 432x288 with 1 Axes>"
      ]
     },
     "metadata": {
      "needs_background": "light"
     },
     "output_type": "display_data"
    }
   ],
   "source": [
    "sns.boxplot(data=data,orient=\"h\") "
   ]
  },
  {
   "cell_type": "markdown",
   "metadata": {},
   "source": [
    "# 2. Violin plot"
   ]
  },
  {
   "cell_type": "code",
   "execution_count": 190,
   "metadata": {},
   "outputs": [
    {
     "data": {
      "text/plain": [
       "<AxesSubplot:xlabel='age', ylabel='sex'>"
      ]
     },
     "execution_count": 190,
     "metadata": {},
     "output_type": "execute_result"
    },
    {
     "data": {
      "image/png": "[encoded data removed]",
      "text/plain": [
       "<Figure size 432x288 with 1 Axes>"
      ]
     },
     "metadata": {
      "needs_background": "light"
     },
     "output_type": "display_data"
    }
   ],
   "source": [
    "titanic = sns.load_dataset(\"titanic\")\n",
    "sns.violinplot(x=\"age\",\n",
    " y=\"sex\",\n",
    " hue=\"survived\",\n",
    " data=titanic)"
   ]
  },
  {
   "cell_type": "markdown",
   "metadata": {},
   "source": [
    "# 3. Pair plot"
   ]
  },
  {
   "cell_type": "code",
   "execution_count": 196,
   "metadata": {},
   "outputs": [
    {
     "data": {
      "text/plain": [
       "<seaborn.axisgrid.PairGrid at 0x2c9b3430e20>"
      ]
     },
     "execution_count": 196,
     "metadata": {},
     "output_type": "execute_result"
    },
    {
     "data": {
      "image/png": "[encoded data removed]",
      "text/plain": [
       "<Figure size 720x720 with 20 Axes>"
      ]
     },
     "metadata": {
      "needs_background": "light"
     },
     "output_type": "display_data"
    }
   ],
   "source": [
    " iris = sns.load_dataset(\"iris\")\n",
    "sns.pairplot(iris)"
   ]
  },
  {
   "cell_type": "markdown",
   "metadata": {},
   "source": [
    "# 4. facet grid - siatka do rysowania wykresow z relacjami warunkowymi "
   ]
  },
  {
   "cell_type": "code",
   "execution_count": 197,
   "metadata": {},
   "outputs": [
    {
     "data": {
      "image/png": "[encoded data removed]",
      "text/plain": [
       "<Figure size 432x432 with 4 Axes>"
      ]
     },
     "metadata": {
      "needs_background": "light"
     },
     "output_type": "display_data"
    }
   ],
   "source": [
    " g = sns.FacetGrid(titanic, col=\"survived\",\n",
    " row=\"sex\")\n"
   ]
  },
  {
   "cell_type": "markdown",
   "metadata": {},
   "source": [
    "# 5. Rysowanie wykresu na siatce"
   ]
  },
  {
   "cell_type": "code",
   "execution_count": 202,
   "metadata": {},
   "outputs": [
    {
     "data": {
      "text/plain": [
       "<seaborn.axisgrid.FacetGrid at 0x2c9b456a910>"
      ]
     },
     "execution_count": 202,
     "metadata": {},
     "output_type": "execute_result"
    },
    {
     "data": {
      "image/png": "[encoded data removed]",
      "text/plain": [
       "<Figure size 432x432 with 4 Axes>"
      ]
     },
     "metadata": {
      "needs_background": "light"
     },
     "output_type": "display_data"
    },
    {
     "data": {
      "image/png": "[encoded data removed]",
      "text/plain": [
       "<Figure size 430.5x360 with 1 Axes>"
      ]
     },
     "metadata": {
      "needs_background": "light"
     },
     "output_type": "display_data"
    }
   ],
   "source": [
    "g = g.map(plt.hist,\"age\")\n",
    "sns.catplot(x=\"pclass\",\n",
    "y=\"survived\",hue=\"sex\",\n",
    "data=titanic) "
   ]
  },
  {
   "cell_type": "markdown",
   "metadata": {},
   "source": [
    "# Bokeh"
   ]
  },
  {
   "cell_type": "code",
   "execution_count": 212,
   "metadata": {},
   "outputs": [
    {
     "data": {
      "text/html": [
       "<div style=\"display: table;\"><div style=\"display: table-row;\"><div style=\"display: table-cell;\"><b title=\"bokeh.plotting.figure.Figure\">Figure</b>(</div><div style=\"display: table-cell;\">id&nbsp;=&nbsp;'1504', <span id=\"1536\" style=\"cursor: pointer;\">&hellip;)</span></div></div><div class=\"1535\" style=\"display: none;\"><div style=\"display: table-cell;\"></div><div style=\"display: table-cell;\">above&nbsp;=&nbsp;[],</div></div><div class=\"1535\" style=\"display: none;\"><div style=\"display: table-cell;\"></div><div style=\"display: table-cell;\">align&nbsp;=&nbsp;'start',</div></div><div class=\"1535\" style=\"display: none;\"><div style=\"display: table-cell;\"></div><div style=\"display: table-cell;\">aspect_ratio&nbsp;=&nbsp;None,</div></div><div class=\"1535\" style=\"display: none;\"><div style=\"display: table-cell;\"></div><div style=\"display: table-cell;\">aspect_scale&nbsp;=&nbsp;1,</div></div><div class=\"1535\" style=\"display: none;\"><div style=\"display: table-cell;\"></div><div style=\"display: table-cell;\">background&nbsp;=&nbsp;None,</div></div><div class=\"1535\" style=\"display: none;\"><div style=\"display: table-cell;\"></div><div style=\"display: table-cell;\">background_fill_alpha&nbsp;=&nbsp;1.0,</div></div><div class=\"1535\" style=\"display: none;\"><div style=\"display: table-cell;\"></div><div style=\"display: table-cell;\">background_fill_color&nbsp;=&nbsp;'#ffffff',</div></div><div class=\"1535\" style=\"display: none;\"><div style=\"display: table-cell;\"></div><div style=\"display: table-cell;\">below&nbsp;=&nbsp;[LinearAxis(id='1513', ...)],</div></div><div class=\"1535\" style=\"display: none;\"><div style=\"display: table-cell;\"></div><div style=\"display: table-cell;\">border_fill_alpha&nbsp;=&nbsp;1.0,</div></div><div class=\"1535\" style=\"display: none;\"><div style=\"display: table-cell;\"></div><div style=\"display: table-cell;\">border_fill_color&nbsp;=&nbsp;'#ffffff',</div></div><div class=\"1535\" style=\"display: none;\"><div style=\"display: table-cell;\"></div><div style=\"display: table-cell;\">center&nbsp;=&nbsp;[Grid(id='1516', ...), Grid(id='1520', ...)],</div></div><div class=\"1535\" style=\"display: none;\"><div style=\"display: table-cell;\"></div><div style=\"display: table-cell;\">css_classes&nbsp;=&nbsp;[],</div></div><div class=\"1535\" style=\"display: none;\"><div style=\"display: table-cell;\"></div><div style=\"display: table-cell;\">disabled&nbsp;=&nbsp;False,</div></div><div class=\"1535\" style=\"display: none;\"><div style=\"display: table-cell;\"></div><div style=\"display: table-cell;\">extra_x_ranges&nbsp;=&nbsp;{},</div></div><div class=\"1535\" style=\"display: none;\"><div style=\"display: table-cell;\"></div><div style=\"display: table-cell;\">extra_y_ranges&nbsp;=&nbsp;{},</div></div><div class=\"1535\" style=\"display: none;\"><div style=\"display: table-cell;\"></div><div style=\"display: table-cell;\">frame_height&nbsp;=&nbsp;None,</div></div><div class=\"1535\" style=\"display: none;\"><div style=\"display: table-cell;\"></div><div style=\"display: table-cell;\">frame_width&nbsp;=&nbsp;None,</div></div><div class=\"1535\" style=\"display: none;\"><div style=\"display: table-cell;\"></div><div style=\"display: table-cell;\">height&nbsp;=&nbsp;None,</div></div><div class=\"1535\" style=\"display: none;\"><div style=\"display: table-cell;\"></div><div style=\"display: table-cell;\">height_policy&nbsp;=&nbsp;'auto',</div></div><div class=\"1535\" style=\"display: none;\"><div style=\"display: table-cell;\"></div><div style=\"display: table-cell;\">hidpi&nbsp;=&nbsp;True,</div></div><div class=\"1535\" style=\"display: none;\"><div style=\"display: table-cell;\"></div><div style=\"display: table-cell;\">js_event_callbacks&nbsp;=&nbsp;{},</div></div><div class=\"1535\" style=\"display: none;\"><div style=\"display: table-cell;\"></div><div style=\"display: table-cell;\">js_property_callbacks&nbsp;=&nbsp;{},</div></div><div class=\"1535\" style=\"display: none;\"><div style=\"display: table-cell;\"></div><div style=\"display: table-cell;\">left&nbsp;=&nbsp;[LinearAxis(id='1517', ...)],</div></div><div class=\"1535\" style=\"display: none;\"><div style=\"display: table-cell;\"></div><div style=\"display: table-cell;\">lod_factor&nbsp;=&nbsp;10,</div></div><div class=\"1535\" style=\"display: none;\"><div style=\"display: table-cell;\"></div><div style=\"display: table-cell;\">lod_interval&nbsp;=&nbsp;300,</div></div><div class=\"1535\" style=\"display: none;\"><div style=\"display: table-cell;\"></div><div style=\"display: table-cell;\">lod_threshold&nbsp;=&nbsp;2000,</div></div><div class=\"1535\" style=\"display: none;\"><div style=\"display: table-cell;\"></div><div style=\"display: table-cell;\">lod_timeout&nbsp;=&nbsp;500,</div></div><div class=\"1535\" style=\"display: none;\"><div style=\"display: table-cell;\"></div><div style=\"display: table-cell;\">margin&nbsp;=&nbsp;(0, 0, 0, 0),</div></div><div class=\"1535\" style=\"display: none;\"><div style=\"display: table-cell;\"></div><div style=\"display: table-cell;\">match_aspect&nbsp;=&nbsp;False,</div></div><div class=\"1535\" style=\"display: none;\"><div style=\"display: table-cell;\"></div><div style=\"display: table-cell;\">max_height&nbsp;=&nbsp;None,</div></div><div class=\"1535\" style=\"display: none;\"><div style=\"display: table-cell;\"></div><div style=\"display: table-cell;\">max_width&nbsp;=&nbsp;None,</div></div><div class=\"1535\" style=\"display: none;\"><div style=\"display: table-cell;\"></div><div style=\"display: table-cell;\">min_border&nbsp;=&nbsp;5,</div></div><div class=\"1535\" style=\"display: none;\"><div style=\"display: table-cell;\"></div><div style=\"display: table-cell;\">min_border_bottom&nbsp;=&nbsp;None,</div></div><div class=\"1535\" style=\"display: none;\"><div style=\"display: table-cell;\"></div><div style=\"display: table-cell;\">min_border_left&nbsp;=&nbsp;None,</div></div><div class=\"1535\" style=\"display: none;\"><div style=\"display: table-cell;\"></div><div style=\"display: table-cell;\">min_border_right&nbsp;=&nbsp;None,</div></div><div class=\"1535\" style=\"display: none;\"><div style=\"display: table-cell;\"></div><div style=\"display: table-cell;\">min_border_top&nbsp;=&nbsp;None,</div></div><div class=\"1535\" style=\"display: none;\"><div style=\"display: table-cell;\"></div><div style=\"display: table-cell;\">min_height&nbsp;=&nbsp;None,</div></div><div class=\"1535\" style=\"display: none;\"><div style=\"display: table-cell;\"></div><div style=\"display: table-cell;\">min_width&nbsp;=&nbsp;None,</div></div><div class=\"1535\" style=\"display: none;\"><div style=\"display: table-cell;\"></div><div style=\"display: table-cell;\">name&nbsp;=&nbsp;None,</div></div><div class=\"1535\" style=\"display: none;\"><div style=\"display: table-cell;\"></div><div style=\"display: table-cell;\">outline_line_alpha&nbsp;=&nbsp;1.0,</div></div><div class=\"1535\" style=\"display: none;\"><div style=\"display: table-cell;\"></div><div style=\"display: table-cell;\">outline_line_cap&nbsp;=&nbsp;'butt',</div></div><div class=\"1535\" style=\"display: none;\"><div style=\"display: table-cell;\"></div><div style=\"display: table-cell;\">outline_line_color&nbsp;=&nbsp;'#e5e5e5',</div></div><div class=\"1535\" style=\"display: none;\"><div style=\"display: table-cell;\"></div><div style=\"display: table-cell;\">outline_line_dash&nbsp;=&nbsp;[],</div></div><div class=\"1535\" style=\"display: none;\"><div style=\"display: table-cell;\"></div><div style=\"display: table-cell;\">outline_line_dash_offset&nbsp;=&nbsp;0,</div></div><div class=\"1535\" style=\"display: none;\"><div style=\"display: table-cell;\"></div><div style=\"display: table-cell;\">outline_line_join&nbsp;=&nbsp;'bevel',</div></div><div class=\"1535\" style=\"display: none;\"><div style=\"display: table-cell;\"></div><div style=\"display: table-cell;\">outline_line_width&nbsp;=&nbsp;1,</div></div><div class=\"1535\" style=\"display: none;\"><div style=\"display: table-cell;\"></div><div style=\"display: table-cell;\">output_backend&nbsp;=&nbsp;'canvas',</div></div><div class=\"1535\" style=\"display: none;\"><div style=\"display: table-cell;\"></div><div style=\"display: table-cell;\">plot_height&nbsp;=&nbsp;600,</div></div><div class=\"1535\" style=\"display: none;\"><div style=\"display: table-cell;\"></div><div style=\"display: table-cell;\">plot_width&nbsp;=&nbsp;600,</div></div><div class=\"1535\" style=\"display: none;\"><div style=\"display: table-cell;\"></div><div style=\"display: table-cell;\">renderers&nbsp;=&nbsp;[],</div></div><div class=\"1535\" style=\"display: none;\"><div style=\"display: table-cell;\"></div><div style=\"display: table-cell;\">reset_policy&nbsp;=&nbsp;'standard',</div></div><div class=\"1535\" style=\"display: none;\"><div style=\"display: table-cell;\"></div><div style=\"display: table-cell;\">right&nbsp;=&nbsp;[],</div></div><div class=\"1535\" style=\"display: none;\"><div style=\"display: table-cell;\"></div><div style=\"display: table-cell;\">sizing_mode&nbsp;=&nbsp;None,</div></div><div class=\"1535\" style=\"display: none;\"><div style=\"display: table-cell;\"></div><div style=\"display: table-cell;\">subscribed_events&nbsp;=&nbsp;[],</div></div><div class=\"1535\" style=\"display: none;\"><div style=\"display: table-cell;\"></div><div style=\"display: table-cell;\">tags&nbsp;=&nbsp;[],</div></div><div class=\"1535\" style=\"display: none;\"><div style=\"display: table-cell;\"></div><div style=\"display: table-cell;\">title&nbsp;=&nbsp;Title(id='1538', ...),</div></div><div class=\"1535\" style=\"display: none;\"><div style=\"display: table-cell;\"></div><div style=\"display: table-cell;\">title_location&nbsp;=&nbsp;'above',</div></div><div class=\"1535\" style=\"display: none;\"><div style=\"display: table-cell;\"></div><div style=\"display: table-cell;\">toolbar&nbsp;=&nbsp;Toolbar(id='1528', ...),</div></div><div class=\"1535\" style=\"display: none;\"><div style=\"display: table-cell;\"></div><div style=\"display: table-cell;\">toolbar_location&nbsp;=&nbsp;'right',</div></div><div class=\"1535\" style=\"display: none;\"><div style=\"display: table-cell;\"></div><div style=\"display: table-cell;\">toolbar_sticky&nbsp;=&nbsp;True,</div></div><div class=\"1535\" style=\"display: none;\"><div style=\"display: table-cell;\"></div><div style=\"display: table-cell;\">visible&nbsp;=&nbsp;True,</div></div><div class=\"1535\" style=\"display: none;\"><div style=\"display: table-cell;\"></div><div style=\"display: table-cell;\">width&nbsp;=&nbsp;None,</div></div><div class=\"1535\" style=\"display: none;\"><div style=\"display: table-cell;\"></div><div style=\"display: table-cell;\">width_policy&nbsp;=&nbsp;'auto',</div></div><div class=\"1535\" style=\"display: none;\"><div style=\"display: table-cell;\"></div><div style=\"display: table-cell;\">x_range&nbsp;=&nbsp;DataRange1d(id='1505', ...),</div></div><div class=\"1535\" style=\"display: none;\"><div style=\"display: table-cell;\"></div><div style=\"display: table-cell;\">x_scale&nbsp;=&nbsp;LinearScale(id='1509', ...),</div></div><div class=\"1535\" style=\"display: none;\"><div style=\"display: table-cell;\"></div><div style=\"display: table-cell;\">y_range&nbsp;=&nbsp;DataRange1d(id='1507', ...),</div></div><div class=\"1535\" style=\"display: none;\"><div style=\"display: table-cell;\"></div><div style=\"display: table-cell;\">y_scale&nbsp;=&nbsp;LinearScale(id='1511', ...))</div></div></div>\n",
       "<script>\n",
       "(function() {\n",
       "  var expanded = false;\n",
       "  var ellipsis = document.getElementById(\"1536\");\n",
       "  ellipsis.addEventListener(\"click\", function() {\n",
       "    var rows = document.getElementsByClassName(\"1535\");\n",
       "    for (var i = 0; i < rows.length; i++) {\n",
       "      var el = rows[i];\n",
       "      el.style.display = expanded ? \"none\" : \"table-row\";\n",
       "    }\n",
       "    ellipsis.innerHTML = expanded ? \"&hellip;)\" : \"&lsaquo;&lsaquo;&lsaquo;\";\n",
       "    expanded = !expanded;\n",
       "  });\n",
       "})();\n",
       "</script>\n"
      ],
      "text/plain": [
       "Figure(id='1504', ...)"
      ]
     },
     "execution_count": 212,
     "metadata": {},
     "output_type": "execute_result"
    }
   ],
   "source": [
    "from bokeh.plotting import figure\n",
    "df = pd.DataFrame(np.array([[33.9,4,65, 'US'],\n",
    "[32.4,4,66, 'Asia'],\n",
    "[21.4,4,109, 'Europe']]),\n",
    "columns=['mpg','cyl', 'hp', 'origin'],\n",
    "index=['Toyota', 'Fiat', 'Volvo'])\n",
    "from bokeh.models import ColumnDataSource\n",
    "cds_df = ColumnDataSource(df)\n",
    "p1 = figure(plot_width=300, tools='pan,box_zoom')\n",
    "p2 = figure(plot_width=300, plot_height=300,\n",
    "x_range=(0, 8), y_range=(0, 8))\n",
    "p3 = figure()"
   ]
  },
  {
   "cell_type": "code",
   "execution_count": 219,
   "metadata": {},
   "outputs": [
    {
     "ename": "NameError",
     "evalue": "name 'show' is not defined",
     "output_type": "error",
     "traceback": [
      "\u001b[1;31m---------------------------------------------------------------------------\u001b[0m",
      "\u001b[1;31mNameError\u001b[0m                                 Traceback (most recent call last)",
      "\u001b[1;32m<ipython-input-219-3465bca16610>\u001b[0m in \u001b[0;36m<module>\u001b[1;34m\u001b[0m\n\u001b[1;32m----> 1\u001b[1;33m \u001b[0mshow\u001b[0m\u001b[1;33m(\u001b[0m\u001b[0mp3\u001b[0m\u001b[1;33m)\u001b[0m\u001b[1;33m\u001b[0m\u001b[1;33m\u001b[0m\u001b[0m\n\u001b[0m",
      "\u001b[1;31mNameError\u001b[0m: name 'show' is not defined"
     ]
    }
   ],
   "source": [
    "show(p3)"
   ]
  },
  {
   "cell_type": "code",
   "execution_count": 215,
   "metadata": {},
   "outputs": [
    {
     "ename": "NameError",
     "evalue": "name 'show' is not defined",
     "output_type": "error",
     "traceback": [
      "\u001b[1;31m---------------------------------------------------------------------------\u001b[0m",
      "\u001b[1;31mNameError\u001b[0m                                 Traceback (most recent call last)",
      "\u001b[1;32m<ipython-input-215-309bc1fe1bea>\u001b[0m in \u001b[0;36m<module>\u001b[1;34m\u001b[0m\n\u001b[1;32m----> 1\u001b[1;33m \u001b[0mshow\u001b[0m\u001b[1;33m(\u001b[0m\u001b[0mp\u001b[0m\u001b[1;33m)\u001b[0m\u001b[1;33m\u001b[0m\u001b[1;33m\u001b[0m\u001b[0m\n\u001b[0m",
      "\u001b[1;31mNameError\u001b[0m: name 'show' is not defined"
     ]
    }
   ],
   "source": []
  },
  {
   "cell_type": "code",
   "execution_count": null,
   "metadata": {},
   "outputs": [],
   "source": []
  }
 ],
 "metadata": {
  "kernelspec": {
   "display_name": "Python 3",
   "language": "python",
   "name": "python3"
  },
  "language_info": {
   "codemirror_mode": {
    "name": "ipython",
    "version": 3
   },
   "file_extension": ".py",
   "mimetype": "text/x-python",
   "name": "python",
   "nbconvert_exporter": "python",
   "pygments_lexer": "ipython3",
   "version": "3.8.6"
  }
 },
 "nbformat": 4,
 "nbformat_minor": 1
}
