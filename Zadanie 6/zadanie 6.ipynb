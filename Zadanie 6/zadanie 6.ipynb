{
 "cells": [
  {
   "cell_type": "markdown",
   "source": [
    "# 1. Otwieranie pliku"
   ],
   "metadata": {
    "collapsed": false,
    "pycharm": {
     "name": "#%% md\n"
    }
   }
  },
  {
   "cell_type": "code",
   "execution_count": 2,
   "metadata": {
    "collapsed": true
   },
   "outputs": [
    {
     "data": {
      "text/plain": "<_io.TextIOWrapper name='pliki/kaminski_pierwszy_plik.txt' mode='r' encoding='cp1250'>"
     },
     "execution_count": 2,
     "metadata": {},
     "output_type": "execute_result"
    }
   ],
   "source": [
    "file = open('pliki/kaminski_pierwszy_plik.txt')\n",
    "file"
   ]
  },
  {
   "cell_type": "markdown",
   "source": [
    "# 2. try - finally / with"
   ],
   "metadata": {
    "collapsed": false,
    "pycharm": {
     "name": "#%% md\n"
    }
   }
  },
  {
   "cell_type": "code",
   "execution_count": 6,
   "outputs": [
    {
     "name": "stdout",
     "output_type": "stream",
     "text": [
      "processing data\n",
      "with processing data\n"
     ]
    }
   ],
   "source": [
    "reader = open('pliki/kaminski_pierwszy_plik.txt')\n",
    "try:\n",
    "    print('processing data')\n",
    "finally:\n",
    "    reader.close()\n",
    "\n",
    "with open('pliki/kaminski_pierwszy_plik.txt') as reader:\n",
    "    print('with processing data')"
   ],
   "metadata": {
    "collapsed": false,
    "pycharm": {
     "name": "#%%\n"
    }
   }
  },
  {
   "cell_type": "markdown",
   "source": [
    "# 3. Argument pozycyjny"
   ],
   "metadata": {
    "collapsed": false,
    "pycharm": {
     "name": "#%% md\n"
    }
   }
  },
  {
   "cell_type": "code",
   "execution_count": 7,
   "outputs": [
    {
     "name": "stdout",
     "output_type": "stream",
     "text": [
      "otwarcie tylko do odczytu\n"
     ]
    }
   ],
   "source": [
    "with open('pliki/kaminski_pierwszy_plik.txt', 'r') as reader:\n",
    "    print('otwarcie tylko do odczytu')"
   ],
   "metadata": {
    "collapsed": false,
    "pycharm": {
     "name": "#%%\n"
    }
   }
  },
  {
   "cell_type": "markdown",
   "source": [
    "# 4. Rodzaje plików"
   ],
   "metadata": {
    "collapsed": false,
    "pycharm": {
     "name": "#%% md\n"
    }
   }
  },
  {
   "cell_type": "code",
   "execution_count": 8,
   "outputs": [
    {
     "name": "stdout",
     "output_type": "stream",
     "text": [
      "<class '_io.TextIOWrapper'>\n",
      "<class '_io.TextIOWrapper'>\n",
      "<class '_io.TextIOWrapper'>\n",
      "<class '_io.BufferedReader'>\n",
      "<class '_io.BufferedWriter'>\n"
     ]
    }
   ],
   "source": [
    "with open('pliki/kaminski_pierwszy_plik.txt') as file:\n",
    "    print(type(file))\n",
    "with open('pliki/kaminski_pierwszy_plik.txt', 'r') as file:\n",
    "    print(type(file))\n",
    "with open('pliki/kaminski_pierwszy_plik.txt', 'w') as file:\n",
    "    print(type(file))\n",
    "with open('pliki/kaminski_pierwszy_plik.txt', 'rb') as file:\n",
    "    print(type(file))\n",
    "with open('pliki/kaminski_pierwszy_plik.txt', 'wb') as file:\n",
    "    print(type(file))"
   ],
   "metadata": {
    "collapsed": false,
    "pycharm": {
     "name": "#%%\n"
    }
   }
  },
  {
   "cell_type": "markdown",
   "source": [
    "# 5. \"Surowy\" plik"
   ],
   "metadata": {
    "collapsed": false,
    "pycharm": {
     "name": "#%% md\n"
    }
   }
  },
  {
   "cell_type": "code",
   "execution_count": 16,
   "outputs": [
    {
     "data": {
      "text/plain": "_io.FileIO"
     },
     "execution_count": 16,
     "metadata": {},
     "output_type": "execute_result"
    }
   ],
   "source": [
    "file = open('pliki/kaminski_pierwszy_plik.txt', 'rb', buffering=0)\n",
    "type(file)"
   ],
   "metadata": {
    "collapsed": false,
    "pycharm": {
     "name": "#%%\n"
    }
   }
  },
  {
   "cell_type": "markdown",
   "source": [
    "# 6. Odczytywanie treści pliku tekstowego\n",
    "a) odczyt całego pliku"
   ],
   "metadata": {
    "collapsed": false,
    "pycharm": {
     "name": "#%% md\n"
    }
   }
  },
  {
   "cell_type": "code",
   "execution_count": 13,
   "outputs": [
    {
     "name": "stdout",
     "output_type": "stream",
     "text": [
      "To jest pierwszy plik przeznaczony do odczytu.\n",
      "Nowa linia.\n",
      "Znaki specjalne 1$#@312.\n",
      "\n"
     ]
    }
   ],
   "source": [
    "with open('pliki/kaminski_pierwszy_plik.txt') as reader:\n",
    "    print(reader.read())"
   ],
   "metadata": {
    "collapsed": false,
    "pycharm": {
     "name": "#%%\n"
    }
   }
  },
  {
   "cell_type": "markdown",
   "source": [
    "b) 5 bitów znaków z każdej linii"
   ],
   "metadata": {
    "collapsed": false,
    "pycharm": {
     "name": "#%% md\n"
    }
   }
  },
  {
   "cell_type": "code",
   "execution_count": 15,
   "outputs": [
    {
     "name": "stdout",
     "output_type": "stream",
     "text": [
      "To je\n",
      "st pi\n",
      "erwsz\n",
      "y pli\n",
      "k prz\n"
     ]
    }
   ],
   "source": [
    "with open('pliki/kaminski_pierwszy_plik.txt', 'r') as reader:\n",
    "    print(reader.readline(5))\n",
    "    print(reader.readline(5))\n",
    "    print(reader.readline(5))\n",
    "    print(reader.readline(5))\n",
    "    print(reader.readline(5))"
   ],
   "metadata": {
    "collapsed": false,
    "pycharm": {
     "name": "#%%\n"
    }
   }
  },
  {
   "cell_type": "markdown",
   "source": [
    "c) cały plik jako lista"
   ],
   "metadata": {
    "collapsed": false,
    "pycharm": {
     "name": "#%% md\n"
    }
   }
  },
  {
   "cell_type": "code",
   "execution_count": 19,
   "outputs": [
    {
     "data": {
      "text/plain": "['To jest pierwszy plik przeznaczony do odczytu.\\n',\n 'Nowa linia.\\n',\n 'Znaki specjalne 1$#@312.\\n']"
     },
     "execution_count": 19,
     "metadata": {},
     "output_type": "execute_result"
    }
   ],
   "source": [
    "f = open('pliki/kaminski_pierwszy_plik.txt')\n",
    "f.readlines()\n",
    "\n",
    "f = open('pliki/kaminski_pierwszy_plik.txt')\n",
    "list(f)"
   ],
   "metadata": {
    "collapsed": false,
    "pycharm": {
     "name": "#%%\n"
    }
   }
  },
  {
   "cell_type": "markdown",
   "source": [
    "# 7. Iterowanie po liniach\n",
    "a) .readline()"
   ],
   "metadata": {
    "collapsed": false,
    "pycharm": {
     "name": "#%% md\n"
    }
   }
  },
  {
   "cell_type": "code",
   "execution_count": 2,
   "outputs": [
    {
     "name": "stdout",
     "output_type": "stream",
     "text": [
      "To jest pierwszy plik przeznaczony do odczytu.\n",
      "Nowa linia.\n",
      "Znaki specjalne 1$#@312.\n"
     ]
    }
   ],
   "source": [
    "with open('pliki/kaminski_pierwszy_plik.txt', 'r') as reader:\n",
    "     line = reader.readline()\n",
    "     while line != '':\n",
    "         print(line, end='')\n",
    "         line = reader.readline()"
   ],
   "metadata": {
    "collapsed": false,
    "pycharm": {
     "name": "#%%\n"
    }
   }
  },
  {
   "cell_type": "markdown",
   "source": [
    "b) .readlines()"
   ],
   "metadata": {
    "collapsed": false,
    "pycharm": {
     "name": "#%% md\n"
    }
   }
  },
  {
   "cell_type": "code",
   "execution_count": 3,
   "outputs": [
    {
     "name": "stdout",
     "output_type": "stream",
     "text": [
      "To jest pierwszy plik przeznaczony do odczytu.\n",
      "Nowa linia.\n",
      "Znaki specjalne 1$#@312.\n"
     ]
    }
   ],
   "source": [
    "with open('pliki/kaminski_pierwszy_plik.txt', 'r') as reader:\n",
    "     for line in reader.readlines():\n",
    "         print(line, end='')"
   ],
   "metadata": {
    "collapsed": false,
    "pycharm": {
     "name": "#%%\n"
    }
   }
  },
  {
   "cell_type": "markdown",
   "source": [
    "c) the python way"
   ],
   "metadata": {
    "collapsed": false,
    "pycharm": {
     "name": "#%% md\n"
    }
   }
  },
  {
   "cell_type": "code",
   "execution_count": 5,
   "outputs": [
    {
     "name": "stdout",
     "output_type": "stream",
     "text": [
      "To jest pierwszy plik przeznaczony do odczytu.\n",
      "Nowa linia.\n",
      "Znaki specjalne 1$#@312.\n"
     ]
    }
   ],
   "source": [
    "with open('pliki/kaminski_pierwszy_plik.txt', 'r') as reader:\n",
    "     for line in reader:\n",
    "         print(line, end='')"
   ],
   "metadata": {
    "collapsed": false,
    "pycharm": {
     "name": "#%%\n"
    }
   }
  },
  {
   "cell_type": "markdown",
   "source": [
    "# 8. Zapisywanie do pliku"
   ],
   "metadata": {
    "collapsed": false,
    "pycharm": {
     "name": "#%% md\n"
    }
   }
  },
  {
   "cell_type": "code",
   "execution_count": 12,
   "outputs": [],
   "source": [
    "with open('pliki/kaminski_pierwszy_plik.txt', 'r') as reader:\n",
    "    readOnly = reader.readlines()\n",
    "\n",
    "with open('pliki/kaminski_pierwszy_plik.txt', 'w') as writer:\n",
    "    for word in reversed(readOnly):\n",
    "        writer.write(word)\n",
    "\n",
    "with open('pliki/kaminski_pierwszy_plik.txt', 'w') as writer:\n",
    "    writer.writelines(reversed(readOnly))"
   ],
   "metadata": {
    "collapsed": false,
    "pycharm": {
     "name": "#%%\n"
    }
   }
  },
  {
   "cell_type": "markdown",
   "source": [
    "# 9. Operacje bitowe"
   ],
   "metadata": {
    "collapsed": false,
    "pycharm": {
     "name": "#%% md\n"
    }
   }
  },
  {
   "cell_type": "code",
   "execution_count": 13,
   "outputs": [
    {
     "name": "stdout",
     "output_type": "stream",
     "text": [
      "b'To jest plik przeznaczony do operacji bitowych.\\r\\n'\n"
     ]
    }
   ],
   "source": [
    "with open('pliki/bity_kaminski.txt', 'rb') as reader:\n",
    "     print(reader.readline())"
   ],
   "metadata": {
    "collapsed": false,
    "pycharm": {
     "name": "#%%\n"
    }
   }
  },
  {
   "cell_type": "markdown",
   "source": [
    "otwarcie pliku png"
   ],
   "metadata": {
    "collapsed": false,
    "pycharm": {
     "name": "#%% md\n"
    }
   }
  },
  {
   "cell_type": "code",
   "execution_count": 15,
   "outputs": [
    {
     "name": "stdout",
     "output_type": "stream",
     "text": [
      "b'\\x89'\n",
      "b'PNG'\n",
      "b'\\r\\n'\n",
      "b'\\x1a'\n",
      "b'\\n'\n"
     ]
    }
   ],
   "source": [
    "with open('pliki/obraz_w_png.png', 'rb') as byte_reader:\n",
    "     print(byte_reader.read(1))\n",
    "     print(byte_reader.read(3))\n",
    "     print(byte_reader.read(2))\n",
    "     print(byte_reader.read(1))\n",
    "     print(byte_reader.read(1))"
   ],
   "metadata": {
    "collapsed": false,
    "pycharm": {
     "name": "#%%\n"
    }
   }
  },
  {
   "cell_type": "markdown",
   "source": [
    "# 10. Dołączanie do pliku"
   ],
   "metadata": {
    "collapsed": false,
    "pycharm": {
     "name": "#%% md\n"
    }
   }
  },
  {
   "cell_type": "code",
   "execution_count": 21,
   "outputs": [
    {
     "name": "stdout",
     "output_type": "stream",
     "text": [
      "Przykladowy plik do dolaczenia slowa, bedzie ono dolaczone tutaj:\n",
      "Beagle\n"
     ]
    }
   ],
   "source": [
    "with open('pliki/drugi_plik_kaminski.txt', 'a') as a_writer:\n",
    "    a_writer.write('\\nBeagle')\n",
    "with open('pliki/drugi_plik_kaminski.txt', 'r') as reader:\n",
    "     print(reader.read())"
   ],
   "metadata": {
    "collapsed": false,
    "pycharm": {
     "name": "#%%\n"
    }
   }
  },
  {
   "cell_type": "markdown",
   "source": [
    "# 11. Praca z dwoma plikami jednocześnie"
   ],
   "metadata": {
    "collapsed": false,
    "pycharm": {
     "name": "#%% md\n"
    }
   }
  },
  {
   "cell_type": "code",
   "execution_count": 23,
   "outputs": [],
   "source": [
    "d_path = 'pliki/drugi_plik_kaminski.txt'\n",
    "d_r_path = 'pliki/odwrocony_drugi_plik.txt'\n",
    "with open(d_path, 'r') as reader, open(d_r_path, 'w') as writer:\n",
    "    pierwszyPlik = reader.readlines()\n",
    "    writer.writelines(reversed(pierwszyPlik))"
   ],
   "metadata": {
    "collapsed": false,
    "pycharm": {
     "name": "#%%\n"
    }
   }
  },
  {
   "cell_type": "markdown",
   "source": [
    "# 12. Wlasny parser"
   ],
   "metadata": {
    "collapsed": false,
    "pycharm": {
     "name": "#%% md\n"
    }
   }
  },
  {
   "cell_type": "code",
   "execution_count": 28,
   "outputs": [
    {
     "name": "stdout",
     "output_type": "stream",
     "text": [
      "00013, b'IHDR', b'5 \\x07\\x03'\n",
      "149416, b'IDAT', b'\\xf3\\xac[\\xcf'\n",
      "00000, b'IEND', b'\\xaeB`\\x82'\n"
     ]
    }
   ],
   "source": [
    "class my_file_reader():\n",
    "    def __init__(self, file_path):\n",
    "        self.__path = file_path\n",
    "        self.__file_object = None\n",
    "\n",
    "    def __enter__(self):\n",
    "        self.__file_object = open(self.__path)\n",
    "        return self\n",
    "\n",
    "    def __exit__(self, type, val, tb):\n",
    "        self.__file_object.close()\n",
    "\n",
    "#uzycie parsera\n",
    "with my_file_reader('pliki/kaminski_pierwszy_plik.txt') as reader:\n",
    "        pass\n",
    "class PngReader():\n",
    "    # Every .png file contains this in the header.  Use it to verify\n",
    "    # the file is indeed a .png.\n",
    "    _expected_magic = b'\\x89PNG\\r\\n\\x1a\\n'\n",
    "\n",
    "    def __init__(self, file_path):\n",
    "        # Ensure the file has the right extension\n",
    "        if not file_path.endswith('.png'):\n",
    "            raise NameError(\"File must be a '.png' extension\")\n",
    "        self.__path = file_path\n",
    "        self.__file_object = None\n",
    "\n",
    "    def __enter__(self):\n",
    "        self.__file_object = open(self.__path, 'rb')\n",
    "\n",
    "        magic = self.__file_object.read(8)\n",
    "        if magic != self._expected_magic:\n",
    "            raise TypeError(\"The File is not a properly formatted .png file!\")\n",
    "\n",
    "        return self\n",
    "\n",
    "    def __exit__(self, type, val, tb):\n",
    "        self.__file_object.close()\n",
    "\n",
    "    def __iter__(self):\n",
    "        # This and __next__() are used to create a custom iterator\n",
    "        # See https://dbader.org/blog/python-iterators\n",
    "        return self\n",
    "\n",
    "    def __next__(self):\n",
    "        # Read the file in \"Chunks\"\n",
    "        # See https://en.wikipedia.org/wiki/Portable_Network_Graphics#%22Chunks%22_within_the_file\n",
    "\n",
    "        initial_data = self.__file_object.read(4)\n",
    "\n",
    "        # The file hasn't been opened or reached EOF.  This means we\n",
    "        # can't go any further so stop the iteration by raising the\n",
    "        # StopIteration.\n",
    "        if self.__file_object is None or initial_data == b'':\n",
    "            raise StopIteration\n",
    "        else:\n",
    "            # Each chunk has a len, type, data (based on len) and crc\n",
    "            # Grab these values and return them as a tuple\n",
    "            chunk_len = int.from_bytes(initial_data, byteorder='big')\n",
    "            chunk_type = self.__file_object.read(4)\n",
    "            chunk_data = self.__file_object.read(chunk_len)\n",
    "            chunk_crc = self.__file_object.read(4)\n",
    "            return chunk_len, chunk_type, chunk_data, chunk_crc\n",
    "with PngReader('pliki/obraz_w_png.png') as reader:\n",
    "    for l, t, d, c in reader:\n",
    "        print(f\"{l:05}, {t}, {c}\")"
   ],
   "metadata": {
    "collapsed": false,
    "pycharm": {
     "name": "#%%\n"
    }
   }
  }
 ],
 "metadata": {
  "kernelspec": {
   "display_name": "Python 3",
   "language": "python",
   "name": "python3"
  },
  "language_info": {
   "codemirror_mode": {
    "name": "ipython",
    "version": 2
   },
   "file_extension": ".py",
   "mimetype": "text/x-python",
   "name": "python",
   "nbconvert_exporter": "python",
   "pygments_lexer": "ipython2",
   "version": "2.7.6"
  }
 },
 "nbformat": 4,
 "nbformat_minor": 0
}