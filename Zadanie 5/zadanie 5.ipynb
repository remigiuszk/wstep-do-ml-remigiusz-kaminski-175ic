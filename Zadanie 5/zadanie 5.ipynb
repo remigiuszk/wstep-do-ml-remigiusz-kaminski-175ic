{
 "cells": [
  {
   "cell_type": "code",
   "execution_count": 9,
   "metadata": {
    "collapsed": true
   },
   "outputs": [],
   "source": [
    "import re\n",
    "from spacy.tokenizer import Tokenizer\n",
    "import spacy\n",
    "from collections import Counter\n",
    "from spacy import displacy\n",
    "from spacy.matcher import Matcher\n",
    "nlp = spacy.load(\"pl_core_news_sm\")"
   ]
  },
  {
   "cell_type": "markdown",
   "source": [
    "Wstęp, dekonstrukcja stringa na pojedyncze wyrazy, oraz odczyt z pliku tekstowego"
   ],
   "metadata": {
    "collapsed": false,
    "pycharm": {
     "name": "#%% md\n"
    }
   }
  },
  {
   "cell_type": "code",
   "execution_count": 2,
   "outputs": [
    {
     "name": "stdout",
     "output_type": "stream",
     "text": [
      "['Przykładowy', 'tekst', 'do', 'demonstracji', 'przetwarzana', 'Spacy']\n"
     ]
    }
   ],
   "source": [
    "introduction_text = ('Przykładowy tekst do demonstracji przetwarzana Spacy')\n",
    "introduction_doc = nlp(introduction_text)\n",
    "print([token.text for token in introduction_doc])\n"
   ],
   "metadata": {
    "collapsed": false,
    "pycharm": {
     "name": "#%%\n"
    }
   }
  },
  {
   "cell_type": "code",
   "execution_count": 21,
   "outputs": [
    {
     "name": "stdout",
     "output_type": "stream",
     "text": [
      "['This', 'is', 'a', 'sample', 'text', '.']\n"
     ]
    }
   ],
   "source": [
    "file_name = \"wstep.txt\"\n",
    "introduction_file_text = open(file_name).read()\n",
    "introduction_file_doc = nlp(introduction_file_text)\n",
    "print ([token.text for token in introduction_file_doc])"
   ],
   "metadata": {
    "collapsed": false,
    "pycharm": {
     "name": "#%%\n"
    }
   }
  },
  {
   "cell_type": "markdown",
   "source": [
    "Podzielenie tekstu wejśćiowego na zdania."
   ],
   "metadata": {
    "collapsed": false,
    "pycharm": {
     "name": "#%% md\n"
    }
   }
  },
  {
   "cell_type": "code",
   "execution_count": 3,
   "outputs": [
    {
     "name": "stdout",
     "output_type": "stream",
     "text": [
      "6\n",
      "Polityk od 1990 do 2004 sprawował mandat posła do węgierskiego Zgromadzenia Narodowego.\n",
      "Był m.in.\n",
      "przewodniczącym klubu parlamentarnego Fideszu (1994–2002) i wiceprzewodniczącym parlamentu (2002–2004).\n",
      "Od 1998 do 2002 kierował węgierskim komitetem integracji europejskiej.\n",
      "W 2000 roku wszedł w skład władz Europejskiej Partii Ludowej.\n",
      "W europarlamencie zasiadał nieprzerwanie od 2004 roku.\n"
     ]
    }
   ],
   "source": [
    "about_text=('Polityk od 1990 do 2004 sprawował mandat posła do węgierskiego Zgromadzenia Narodowego. Był m.in. przewodniczącym klubu parlamentarnego Fideszu (1994–2002) i wiceprzewodniczącym parlamentu (2002–2004). Od 1998 do 2002 kierował węgierskim komitetem integracji europejskiej. W 2000 roku wszedł w skład władz Europejskiej Partii Ludowej. W europarlamencie zasiadał nieprzerwanie od 2004 roku.')\n",
    "about_doc = nlp(about_text)\n",
    "sentences = list(about_doc.sents)\n",
    "print(len(sentences))\n",
    "for sentence in sentences:\n",
    "    print(sentence)"
   ],
   "metadata": {
    "collapsed": false,
    "pycharm": {
     "name": "#%%\n"
    }
   }
  },
  {
   "cell_type": "markdown",
   "source": [
    "Stworzenie niestandardowego znacznika końca zdania \"...\""
   ],
   "metadata": {
    "collapsed": false,
    "pycharm": {
     "name": "#%% md\n"
    }
   }
  },
  {
   "cell_type": "code",
   "execution_count": 4,
   "outputs": [
    {
     "name": "stdout",
     "output_type": "stream",
     "text": [
      "Marin, czy możesz, ...\n",
      "nieważne, zapomniałem  co miałem na myśli.\n",
      "To jak myślisz, powinniśmy ...\n"
     ]
    }
   ],
   "source": [
    "def set_custom_boundaries(doc):\n",
    "    for token in doc[:-1]:\n",
    "        if token.text == '...' or token.text == 'np.' or token.text == 'm.in.':\n",
    "            doc[token.i+1].is_sent_start = True\n",
    "    return doc\n",
    "\n",
    "ellipsis_text = 'Marin, czy możesz, ... nieważne, zapomniałem  co miałem na myśli. To jak myślisz, powinniśmy ...'\n",
    "\n",
    "custom_nlp = spacy.load(\"pl_core_news_sm\")\n",
    "custom_nlp.add_pipe(set_custom_boundaries, before='parser')\n",
    "custom_ellipsis_doc = custom_nlp(ellipsis_text)\n",
    "custom_ellipsis_sentences = list(custom_ellipsis_doc.sents)\n",
    "for sentence in custom_ellipsis_sentences:\n",
    "    print(sentence)"
   ],
   "metadata": {
    "collapsed": false,
    "pycharm": {
     "name": "#%%\n"
    }
   }
  },
  {
   "cell_type": "markdown",
   "source": [
    "Porównanie ze standardową dekompozycją"
   ],
   "metadata": {
    "collapsed": false,
    "pycharm": {
     "name": "#%% md\n"
    }
   }
  },
  {
   "cell_type": "code",
   "execution_count": 34,
   "outputs": [
    {
     "name": "stdout",
     "output_type": "stream",
     "text": [
      "Marin, czy możesz, ... nieważne, zapomniałem  co miałem na myśli.\n",
      "To jak myślisz, powinniśmy ...\n"
     ]
    }
   ],
   "source": [
    "ellipsis_doc = nlp(ellipsis_text)\n",
    "ellipsis_sentences = list(ellipsis_doc.sents)\n",
    "for sentence in ellipsis_sentences:\n",
    "   print(sentence)"
   ],
   "metadata": {
    "collapsed": false,
    "pycharm": {
     "name": "#%%\n"
    }
   }
  },
  {
   "cell_type": "markdown",
   "source": [
    "Rozbicie tekstu na tokeny"
   ],
   "metadata": {
    "collapsed": false,
    "pycharm": {
     "name": "#%% md\n"
    }
   }
  },
  {
   "cell_type": "code",
   "execution_count": 35,
   "outputs": [
    {
     "name": "stdout",
     "output_type": "stream",
     "text": [
      "Polityk 0\n",
      "od 8\n",
      "1990 11\n",
      "do 16\n",
      "2004 19\n",
      "sprawował 24\n",
      "mandat 34\n",
      "posła 41\n",
      "do 47\n",
      "węgierskiego 50\n",
      "Zgromadzenia 63\n",
      "Narodowego 76\n",
      ". 86\n",
      "Był 88\n",
      "m.in 92\n",
      ". 96\n",
      "przewodniczącym 98\n",
      "klubu 114\n",
      "parlamentarnego 120\n",
      "Fideszu 136\n",
      "( 144\n",
      "1994 145\n",
      "– 149\n",
      "2002 150\n",
      ") 154\n",
      "i 156\n",
      "wiceprzewodniczącym 158\n",
      "parlamentu 178\n",
      "( 189\n",
      "2002 190\n",
      "– 194\n",
      "2004 195\n",
      ") 199\n",
      ". 200\n",
      "Od 202\n",
      "1998 205\n",
      "do 210\n",
      "2002 213\n",
      "kierował 218\n",
      "węgierskim 227\n",
      "komitetem 238\n",
      "integracji 248\n",
      "europejskiej 259\n",
      ". 271\n",
      "W 273\n",
      "2000 275\n",
      "roku 280\n",
      "wszedł 285\n",
      "w 292\n",
      "skład 294\n",
      "władz 300\n",
      "Europejskiej 306\n",
      "Partii 319\n",
      "Ludowej 326\n",
      ". 333\n",
      "W 335\n",
      "europarlamencie 337\n",
      "zasiadał 353\n",
      "nieprzerwanie 362\n",
      "od 376\n",
      "2004 379\n",
      "roku 384\n",
      ". 388\n"
     ]
    }
   ],
   "source": [
    "for token in about_doc:\n",
    "    print (token, token.idx)"
   ],
   "metadata": {
    "collapsed": false,
    "pycharm": {
     "name": "#%%\n"
    }
   }
  },
  {
   "cell_type": "markdown",
   "source": [
    "Wyświetlenie atrybutów tokena"
   ],
   "metadata": {
    "collapsed": false,
    "pycharm": {
     "name": "#%% md\n"
    }
   }
  },
  {
   "cell_type": "code",
   "execution_count": 36,
   "outputs": [
    {
     "name": "stdout",
     "output_type": "stream",
     "text": [
      "Polityk 0 Polityk  True False False Xxxxx False\n",
      "od 8 od  True False False xx True\n",
      "1990 11 1990  False False False dddd False\n",
      "do 16 do  True False False xx True\n",
      "2004 19 2004  False False False dddd False\n",
      "sprawował 24 sprawował  True False False xxxx False\n",
      "mandat 34 mandat  True False False xxxx False\n",
      "posła 41 posła  True False False xxxx False\n",
      "do 47 do  True False False xx True\n",
      "węgierskiego 50 węgierskiego  True False False xxxx False\n",
      "Zgromadzenia 63 Zgromadzenia  True False False Xxxxx False\n",
      "Narodowego 76 Narodowego True False False Xxxxx False\n",
      ". 86 .  False True False . False\n",
      "Był 88 Był  True False False Xxx True\n",
      "m.in 92 m.in False False False x.xx False\n",
      ". 96 .  False True False . False\n",
      "przewodniczącym 98 przewodniczącym  True False False xxxx False\n",
      "klubu 114 klubu  True False False xxxx False\n",
      "parlamentarnego 120 parlamentarnego  True False False xxxx False\n",
      "Fideszu 136 Fideszu  True False False Xxxxx False\n",
      "( 144 ( False True False ( False\n",
      "1994 145 1994 False False False dddd False\n",
      "– 149 – False True False – False\n",
      "2002 150 2002 False False False dddd False\n",
      ") 154 )  False True False ) False\n",
      "i 156 i  True False False x True\n",
      "wiceprzewodniczącym 158 wiceprzewodniczącym  True False False xxxx False\n",
      "parlamentu 178 parlamentu  True False False xxxx False\n",
      "( 189 ( False True False ( False\n",
      "2002 190 2002 False False False dddd False\n",
      "– 194 – False True False – False\n",
      "2004 195 2004 False False False dddd False\n",
      ") 199 ) False True False ) False\n",
      ". 200 .  False True False . False\n",
      "Od 202 Od  True False False Xx True\n",
      "1998 205 1998  False False False dddd False\n",
      "do 210 do  True False False xx True\n",
      "2002 213 2002  False False False dddd False\n",
      "kierował 218 kierował  True False False xxxx False\n",
      "węgierskim 227 węgierskim  True False False xxxx False\n",
      "komitetem 238 komitetem  True False False xxxx False\n",
      "integracji 248 integracji  True False False xxxx False\n",
      "europejskiej 259 europejskiej True False False xxxx False\n",
      ". 271 .  False True False . False\n",
      "W 273 W  True False False X True\n",
      "2000 275 2000  False False False dddd False\n",
      "roku 280 roku  True False False xxxx True\n",
      "wszedł 285 wszedł  True False False xxxx False\n",
      "w 292 w  True False False x True\n",
      "skład 294 skład  True False False xxxx False\n",
      "władz 300 władz  True False False xxxx False\n",
      "Europejskiej 306 Europejskiej  True False False Xxxxx False\n",
      "Partii 319 Partii  True False False Xxxxx False\n",
      "Ludowej 326 Ludowej True False False Xxxxx False\n",
      ". 333 .  False True False . False\n",
      "W 335 W  True False False X True\n",
      "europarlamencie 337 europarlamencie  True False False xxxx False\n",
      "zasiadał 353 zasiadał  True False False xxxx False\n",
      "nieprzerwanie 362 nieprzerwanie  True False False xxxx False\n",
      "od 376 od  True False False xx True\n",
      "2004 379 2004  False False False dddd False\n",
      "roku 384 roku True False False xxxx True\n",
      ". 388 . False True False . False\n"
     ]
    }
   ],
   "source": [
    "for token in about_doc:\n",
    "    print (token, token.idx, token.text_with_ws,\n",
    "    token.is_alpha, token.is_punct, token.is_space,\n",
    "    token.shape_, token.is_stop)"
   ],
   "metadata": {
    "collapsed": false,
    "pycharm": {
     "name": "#%%\n"
    }
   }
  },
  {
   "cell_type": "markdown",
   "source": [
    "dodanie \"-\" jako znacznika oddzialającego tokeny"
   ],
   "metadata": {
    "collapsed": false,
    "pycharm": {
     "name": "#%% md\n"
    }
   }
  },
  {
   "cell_type": "code",
   "execution_count": 39,
   "outputs": [
    {
     "name": "stdout",
     "output_type": "stream",
     "text": [
      "['Polityk', 'od', '1990', 'do', '2004', 'sprawował', 'mandat', 'posła', 'do', 'węgierskiego', 'Zgromadzenia', 'Narodowego', '.', 'Był', 'm.in', '.', 'przewodniczącym', 'klubu', 'parlamentarnego', 'Fideszu', '(', '1994–2002', ')', 'i', 'wiceprzewodniczącym', 'parlamentu', '(', '2002–2004', ')', '.', 'Od', '1998', 'do', '2002', 'kierował', 'węgierskim', 'komitetem', 'integracji', 'europejskiej', '.', 'W', '2000', 'roku', 'wszedł', 'w', 'skład', 'władz', 'Europejskiej', 'Partii', 'Ludowej', '.', 'W', 'europarlamencie', 'zasiadał', 'nieprzerwanie', 'od', '2004', 'roku', '.']\n"
     ]
    }
   ],
   "source": [
    "custom_nlp = spacy.load('pl_core_news_sm')\n",
    "prefix_re = spacy.util.compile_prefix_regex(custom_nlp.Defaults.prefixes)\n",
    "suffix_re = spacy.util.compile_suffix_regex(custom_nlp.Defaults.suffixes)\n",
    "infix_re = re.compile(r'''[-~]''')\n",
    "\n",
    "def customize_tokenizer(nlp):\n",
    "# Adds support to use `-` as the delimiter for tokenization\n",
    "    return Tokenizer(nlp.vocab, prefix_search=prefix_re.search,\n",
    "                    suffix_search=suffix_re.search,\n",
    "                    infix_finditer=infix_re.finditer,\n",
    "                    token_match=None\n",
    "                   )\n",
    "\n",
    "\n",
    "custom_nlp.tokenizer = customize_tokenizer(custom_nlp)\n",
    "custom_tokenizer_about_doc = custom_nlp(about_text)\n",
    "print([token.text for token in custom_tokenizer_about_doc])"
   ],
   "metadata": {
    "collapsed": false,
    "pycharm": {
     "name": "#%%\n"
    }
   }
  },
  {
   "cell_type": "markdown",
   "source": [
    "Stop words - najpopularniejsze wyrazy w danym języku, które pomijane są w analizie\n",
    "gdyż nie mają znaczenia, lecz potrzebne są aby zachować sens zdania"
   ],
   "metadata": {
    "collapsed": false,
    "pycharm": {
     "name": "#%% md\n"
    }
   }
  },
  {
   "cell_type": "code",
   "execution_count": 40,
   "outputs": [
    {
     "name": "stdout",
     "output_type": "stream",
     "text": [
      "o\n",
      "dobrze\n",
      "xiv\n",
      "sposob\n",
      "coraz\n",
      "niemu\n",
      "twój\n",
      "nasze\n",
      "mozna\n",
      "dwoje\n"
     ]
    }
   ],
   "source": [
    "import spacy\n",
    "spacy_stopwords = spacy.lang.pl.stop_words.STOP_WORDS\n",
    "len(spacy_stopwords)\n",
    "for stop_word in list(spacy_stopwords)[:10]:\n",
    "    print(stop_word)"
   ],
   "metadata": {
    "collapsed": false,
    "pycharm": {
     "name": "#%%\n"
    }
   }
  },
  {
   "cell_type": "markdown",
   "source": [
    "usuniecie wspomnianych wyrazow z tekstu"
   ],
   "metadata": {
    "collapsed": false,
    "pycharm": {
     "name": "#%% md\n"
    }
   }
  },
  {
   "cell_type": "code",
   "execution_count": 41,
   "outputs": [
    {
     "name": "stdout",
     "output_type": "stream",
     "text": [
      "Polityk\n",
      "1990\n",
      "2004\n",
      "sprawował\n",
      "mandat\n",
      "posła\n",
      "węgierskiego\n",
      "Zgromadzenia\n",
      "Narodowego\n",
      ".\n",
      "m.in\n",
      ".\n",
      "przewodniczącym\n",
      "klubu\n",
      "parlamentarnego\n",
      "Fideszu\n",
      "(\n",
      "1994\n",
      "–\n",
      "2002\n",
      ")\n",
      "wiceprzewodniczącym\n",
      "parlamentu\n",
      "(\n",
      "2002\n",
      "–\n",
      "2004\n",
      ")\n",
      ".\n",
      "1998\n",
      "2002\n",
      "kierował\n",
      "węgierskim\n",
      "komitetem\n",
      "integracji\n",
      "europejskiej\n",
      ".\n",
      "2000\n",
      "wszedł\n",
      "skład\n",
      "władz\n",
      "Europejskiej\n",
      "Partii\n",
      "Ludowej\n",
      ".\n",
      "europarlamencie\n",
      "zasiadał\n",
      "nieprzerwanie\n",
      "2004\n",
      ".\n"
     ]
    }
   ],
   "source": [
    "for token in about_doc:\n",
    "    if not token.is_stop:\n",
    "        print(token)"
   ],
   "metadata": {
    "collapsed": false,
    "pycharm": {
     "name": "#%%\n"
    }
   }
  },
  {
   "cell_type": "markdown",
   "source": [
    "lista słów, które nie są stop words"
   ],
   "metadata": {
    "collapsed": false,
    "pycharm": {
     "name": "#%% md\n"
    }
   }
  },
  {
   "cell_type": "code",
   "execution_count": 42,
   "outputs": [
    {
     "name": "stdout",
     "output_type": "stream",
     "text": [
      "[Polityk, 1990, 2004, sprawował, mandat, posła, węgierskiego, Zgromadzenia, Narodowego, ., m.in, ., przewodniczącym, klubu, parlamentarnego, Fideszu, (, 1994, –, 2002, ), wiceprzewodniczącym, parlamentu, (, 2002, –, 2004, ), ., 1998, 2002, kierował, węgierskim, komitetem, integracji, europejskiej, ., 2000, wszedł, skład, władz, Europejskiej, Partii, Ludowej, ., europarlamencie, zasiadał, nieprzerwanie, 2004, .]\n"
     ]
    }
   ],
   "source": [
    "about_no_stopword_doc = [token for token in about_doc if not token.is_stop]\n",
    "print (about_no_stopword_doc)"
   ],
   "metadata": {
    "collapsed": false,
    "pycharm": {
     "name": "#%%\n"
    }
   }
  },
  {
   "cell_type": "markdown",
   "source": [
    "Lemmanization - usunięcie odmiany wyrazów, zachowując jednocześnie ich sens"
   ],
   "metadata": {
    "collapsed": false,
    "pycharm": {
     "name": "#%% md\n"
    }
   }
  },
  {
   "cell_type": "code",
   "source": [
    "conference_help_text = ('Paweł pomaga zoragnizować programistyczną '\n",
    "'konferencje o zastosowaniach języka'\n",
    "' i jego przetwarzaniu. Organizuje spotkania'\n",
    "' i wiele wewnętrznych osób rozmawia w jego imieniu')\n",
    "conference_help_doc = nlp(conference_help_text)\n",
    "for token in conference_help_doc:\n",
    "    print (token, token.lemma_)"
   ],
   "metadata": {
    "collapsed": false,
    "pycharm": {
     "name": "#%%\n"
    }
   },
   "execution_count": 44,
   "outputs": [
    {
     "name": "stdout",
     "output_type": "stream",
     "text": [
      "Paweł Pawła\n",
      "pomaga pomagać\n",
      "zoragnizować zoragnizować\n",
      "programistyczną programistyczny\n",
      "konferencje konferencja\n",
      "o o\n",
      "zastosowaniach zastosowanie\n",
      "języka język\n",
      "i i\n",
      "jego on\n",
      "przetwarzaniu przetwarzanie\n",
      ". .\n",
      "Organizuje organizować\n",
      "spotkania spotkanie\n",
      "i i\n",
      "wiele wiele\n",
      "wewnętrznych wewnętrzny\n",
      "osób osoba\n",
      "rozmawia rozmawiać\n",
      "w w\n",
      "jego on\n",
      "imieniu imię\n"
     ]
    }
   ]
  },
  {
   "cell_type": "markdown",
   "source": [
    "Częstotliwość występywania słów"
   ],
   "metadata": {
    "collapsed": false,
    "pycharm": {
     "name": "#%% md\n"
    }
   }
  },
  {
   "cell_type": "code",
   "execution_count": 6,
   "outputs": [],
   "source": [
    "complete_text = 'Polska pozostaje pod wpływem potężnego, zimnego rosyjskiego wyżu, w masie zimnego starego powietrza arktycznego. Będzie ona od czwartku odsuwana znad Polski przez cieplejsze masy polarne, pchane do nas przez pochmurne wiry niżowe znad Atlantyku, zachodniej Europy i Morza Śródziemnego.Temperatura w drugiej połowie tygodnia wzrośnie, podobnie jak zachmurzenie, a mróz zelżeje. Nie ma co liczyć na zimową aurę w mikołajkowy weekend. Zapowiada się plucha.' \\\n",
    "                'W środę będzie jeszcze zimno, ale pogodnie. Miejscami przejściowo wzrośnie zachmurzenie. Temperatura minimalna wyniesie od -1 stopnia Celsjusza na Suwalszczyźnie, Podlasiu oraz w Małopolsce i na Górnym Śląsku, przez  1 st. C w centrum kraju, do 3 st. C na Ziemi Lubuskiej i Pomorzu Zachodnim. Wiatr będzie wschodni i południowo-wschodni, słaby i umiarkowany, okresami silniejszy.'\n",
    "complete_doc = nlp(complete_text)\n",
    "# usuwamy słowa stop i znaki interpunkcyjne\n",
    "words = [token.text for token in complete_doc\n",
    "        if not token.is_stop and not token.is_punct]\n",
    "word_freq = Counter(words)"
   ],
   "metadata": {
    "collapsed": false,
    "pycharm": {
     "name": "#%%\n"
    }
   }
  },
  {
   "cell_type": "markdown",
   "source": [
    "5 najczęściej występujących wyrazów wraz z liczbą wystąpień"
   ],
   "metadata": {
    "collapsed": false,
    "pycharm": {
     "name": "#%% md\n"
    }
   }
  },
  {
   "cell_type": "code",
   "execution_count": 50,
   "outputs": [
    {
     "name": "stdout",
     "output_type": "stream",
     "text": [
      "[('zimnego', 2), ('znad', 2), ('Temperatura', 2), ('wzrośnie', 2), ('zachmurzenie', 2)]\n"
     ]
    }
   ],
   "source": [
    "common_words = word_freq.most_common(5)\n",
    "print (common_words)"
   ],
   "metadata": {
    "collapsed": false,
    "pycharm": {
     "name": "#%%\n"
    }
   }
  },
  {
   "cell_type": "markdown",
   "source": [
    "unikatowe wyrazy (występujące tylko raz)"
   ],
   "metadata": {
    "collapsed": false,
    "pycharm": {
     "name": "#%% md\n"
    }
   }
  },
  {
   "cell_type": "code",
   "execution_count": 51,
   "outputs": [
    {
     "name": "stdout",
     "output_type": "stream",
     "text": [
      "['Polska', 'pozostaje', 'wpływem', 'potężnego', 'rosyjskiego', 'wyżu', 'masie', 'starego', 'powietrza', 'arktycznego', 'czwartku', 'odsuwana', 'Polski', 'cieplejsze', 'masy', 'polarne', 'pchane', 'pochmurne', 'wiry', 'niżowe', 'Atlantyku', 'zachodniej', 'Europy', 'Morza', 'Śródziemnego', 'drugiej', 'połowie', 'tygodnia', 'podobnie', 'mróz', 'zelżeje', 'liczyć', 'zimową', 'aurę', 'mikołajkowy', 'weekend', 'Zapowiada', 'plucha', 'środę', 'zimno', 'pogodnie', 'Miejscami', 'przejściowo', 'minimalna', 'wyniesie', '-1', 'stopnia', 'Celsjusza', 'Suwalszczyźnie', 'Podlasiu', 'Małopolsce', 'Górnym', 'Śląsku', ' ', '1', 'centrum', 'kraju', '3', 'Ziemi', 'Lubuskiej', 'Pomorzu', 'Zachodnim', 'Wiatr', 'południowo', 'słaby', 'umiarkowany', 'okresami', 'silniejszy']\n"
     ]
    }
   ],
   "source": [
    "unique_words = [word for (word, freq) in word_freq.items() if freq == 1]\n",
    "print (unique_words)"
   ],
   "metadata": {
    "collapsed": false,
    "pycharm": {
     "name": "#%%\n"
    }
   }
  },
  {
   "cell_type": "markdown",
   "source": [
    "Wyodrębnianie i rozpoznawanie części mowy"
   ],
   "metadata": {
    "collapsed": false,
    "pycharm": {
     "name": "#%% md\n"
    }
   }
  },
  {
   "cell_type": "code",
   "execution_count": 52,
   "outputs": [
    {
     "name": "stdout",
     "output_type": "stream",
     "text": [
      "Polityk SUBST NOUN None\n",
      "od PREP ADP None\n",
      "1990 ADJ ADJ adjective\n",
      "do PREP ADP None\n",
      "2004 ADJ ADJ adjective\n",
      "sprawował PRAET VERB None\n",
      "mandat SUBST NOUN None\n",
      "posła SUBST NOUN None\n",
      "do PREP ADP None\n",
      "węgierskiego ADJ ADJ adjective\n",
      "Zgromadzenia SUBST NOUN None\n",
      "Narodowego ADJ ADJ adjective\n",
      ". INTERP PUNCT None\n",
      "Był PRAET VERB None\n",
      "m.in BREV X None\n",
      ". INTERP PUNCT None\n",
      "przewodniczącym SUBST NOUN None\n",
      "klubu SUBST NOUN None\n",
      "parlamentarnego ADJ ADJ adjective\n",
      "Fideszu SUBST NOUN None\n",
      "( INTERP PUNCT None\n",
      "1994 NUM NUM numeral\n",
      "– INTERP PUNCT None\n",
      "2002 NUM NUM numeral\n",
      ") INTERP PUNCT None\n",
      "i CONJ CCONJ conjunction\n",
      "wiceprzewodniczącym SUBST NOUN None\n",
      "parlamentu SUBST NOUN None\n",
      "( INTERP PUNCT None\n",
      "2002 NUM NUM numeral\n",
      "– INTERP PUNCT None\n",
      "2004 NUM NUM numeral\n",
      ") INTERP PUNCT None\n",
      ". INTERP PUNCT None\n",
      "Od PREP ADP None\n",
      "1998 ADJ ADJ adjective\n",
      "do PREP ADP None\n",
      "2002 ADJ ADJ adjective\n",
      "kierował PRAET VERB None\n",
      "węgierskim ADJ ADJ adjective\n",
      "komitetem SUBST NOUN None\n",
      "integracji SUBST NOUN None\n",
      "europejskiej ADJ ADJ adjective\n",
      ". INTERP PUNCT None\n",
      "W PREP ADP None\n",
      "2000 ADJ ADJ adjective\n",
      "roku SUBST NOUN None\n",
      "wszedł PRAET VERB None\n",
      "w PREP ADP None\n",
      "skład SUBST NOUN None\n",
      "władz SUBST NOUN None\n",
      "Europejskiej ADJ ADJ adjective\n",
      "Partii SUBST NOUN None\n",
      "Ludowej ADJ ADJ adjective\n",
      ". INTERP PUNCT None\n",
      "W PREP ADP None\n",
      "europarlamencie SUBST NOUN None\n",
      "zasiadał PRAET VERB None\n",
      "nieprzerwanie ADV ADV adverb\n",
      "od PREP ADP None\n",
      "2004 ADJ ADJ adjective\n",
      "roku SUBST NOUN None\n",
      ". INTERP PUNCT None\n"
     ]
    }
   ],
   "source": [
    "for token in about_doc:\n",
    "    print (token, token.tag_, token.pos_, spacy.explain(token.tag_))"
   ],
   "metadata": {
    "collapsed": false,
    "pycharm": {
     "name": "#%%\n"
    }
   }
  },
  {
   "cell_type": "markdown",
   "source": [
    "Wyodrębnienie tylko wskazanych częśći mowy"
   ],
   "metadata": {
    "collapsed": false,
    "pycharm": {
     "name": "#%% md\n"
    }
   }
  },
  {
   "cell_type": "code",
   "execution_count": 56,
   "outputs": [
    {
     "name": "stdout",
     "output_type": "stream",
     "text": [
      "nouns: [Polityk, mandat, posła, Zgromadzenia, przewodniczącym, klubu, Fideszu, wiceprzewodniczącym, parlamentu, komitetem, integracji, roku, skład, władz, Partii, europarlamencie, roku] \n",
      "\n",
      "adjectives: [1990, 2004, węgierskiego, Narodowego, parlamentarnego, 1998, 2002, węgierskim, europejskiej, 2000, Europejskiej, Ludowej, 2004] \n",
      "\n"
     ]
    }
   ],
   "source": [
    "nouns = []\n",
    "adjectives = []\n",
    "for token in about_doc:\n",
    "    if token.pos_ == 'NOUN':\n",
    "        nouns.append(token)\n",
    "    if token.pos_ == 'ADJ':\n",
    "        adjectives.append(token)\n",
    "print('nouns:',nouns, '\\n');\n",
    "print('adjectives:',adjectives, '\\n');"
   ],
   "metadata": {
    "collapsed": false,
    "pycharm": {
     "name": "#%%\n"
    }
   }
  },
  {
   "cell_type": "markdown",
   "source": [
    "wizualizacja"
   ],
   "metadata": {
    "collapsed": false,
    "pycharm": {
     "name": "#%% md\n"
    }
   }
  },
  {
   "cell_type": "code",
   "execution_count": 8,
   "outputs": [
    {
     "data": {
      "text/plain": "<IPython.core.display.HTML object>",
      "text/html": "<span class=\"tex2jax_ignore\"><svg xmlns=\"http://www.w3.org/2000/svg\" xmlns:xlink=\"http://www.w3.org/1999/xlink\" xml:lang=\"pl\" id=\"f595e30fb29b44e3919c76dd8c5b87a4-0\" class=\"displacy\" width=\"1275\" height=\"399.5\" direction=\"ltr\" style=\"max-width: none; height: 399.5px; color: #000000; background: #ffffff; font-family: Arial; direction: ltr\">\n<text class=\"displacy-token\" fill=\"currentColor\" text-anchor=\"middle\" y=\"309.5\">\n    <tspan class=\"displacy-word\" fill=\"currentColor\" x=\"50\">Krowy</tspan>\n    <tspan class=\"displacy-tag\" dy=\"2em\" fill=\"currentColor\" x=\"50\">NOUN</tspan>\n</text>\n\n<text class=\"displacy-token\" fill=\"currentColor\" text-anchor=\"middle\" y=\"309.5\">\n    <tspan class=\"displacy-word\" fill=\"currentColor\" x=\"225\">dają</tspan>\n    <tspan class=\"displacy-tag\" dy=\"2em\" fill=\"currentColor\" x=\"225\">VERB</tspan>\n</text>\n\n<text class=\"displacy-token\" fill=\"currentColor\" text-anchor=\"middle\" y=\"309.5\">\n    <tspan class=\"displacy-word\" fill=\"currentColor\" x=\"400\">mleko,</tspan>\n    <tspan class=\"displacy-tag\" dy=\"2em\" fill=\"currentColor\" x=\"400\">NOUN</tspan>\n</text>\n\n<text class=\"displacy-token\" fill=\"currentColor\" text-anchor=\"middle\" y=\"309.5\">\n    <tspan class=\"displacy-word\" fill=\"currentColor\" x=\"575\">ale</tspan>\n    <tspan class=\"displacy-tag\" dy=\"2em\" fill=\"currentColor\" x=\"575\">CCONJ</tspan>\n</text>\n\n<text class=\"displacy-token\" fill=\"currentColor\" text-anchor=\"middle\" y=\"309.5\">\n    <tspan class=\"displacy-word\" fill=\"currentColor\" x=\"750\">nie</tspan>\n    <tspan class=\"displacy-tag\" dy=\"2em\" fill=\"currentColor\" x=\"750\">PART</tspan>\n</text>\n\n<text class=\"displacy-token\" fill=\"currentColor\" text-anchor=\"middle\" y=\"309.5\">\n    <tspan class=\"displacy-word\" fill=\"currentColor\" x=\"925\">napoje</tspan>\n    <tspan class=\"displacy-tag\" dy=\"2em\" fill=\"currentColor\" x=\"925\">NOUN</tspan>\n</text>\n\n<text class=\"displacy-token\" fill=\"currentColor\" text-anchor=\"middle\" y=\"309.5\">\n    <tspan class=\"displacy-word\" fill=\"currentColor\" x=\"1100\">gazowane</tspan>\n    <tspan class=\"displacy-tag\" dy=\"2em\" fill=\"currentColor\" x=\"1100\">VERB</tspan>\n</text>\n\n<g class=\"displacy-arrow\">\n    <path class=\"displacy-arc\" id=\"arrow-f595e30fb29b44e3919c76dd8c5b87a4-0-0\" stroke-width=\"2px\" d=\"M70,264.5 C70,177.0 215.0,177.0 215.0,264.5\" fill=\"none\" stroke=\"currentColor\"/>\n    <text dy=\"1.25em\" style=\"font-size: 0.8em; letter-spacing: 1px\">\n        <textPath xlink:href=\"#arrow-f595e30fb29b44e3919c76dd8c5b87a4-0-0\" class=\"displacy-label\" startOffset=\"50%\" side=\"left\" fill=\"currentColor\" text-anchor=\"middle\">nsubj</textPath>\n    </text>\n    <path class=\"displacy-arrowhead\" d=\"M70,266.5 L62,254.5 78,254.5\" fill=\"currentColor\"/>\n</g>\n\n<g class=\"displacy-arrow\">\n    <path class=\"displacy-arc\" id=\"arrow-f595e30fb29b44e3919c76dd8c5b87a4-0-1\" stroke-width=\"2px\" d=\"M245,264.5 C245,177.0 390.0,177.0 390.0,264.5\" fill=\"none\" stroke=\"currentColor\"/>\n    <text dy=\"1.25em\" style=\"font-size: 0.8em; letter-spacing: 1px\">\n        <textPath xlink:href=\"#arrow-f595e30fb29b44e3919c76dd8c5b87a4-0-1\" class=\"displacy-label\" startOffset=\"50%\" side=\"left\" fill=\"currentColor\" text-anchor=\"middle\">obj</textPath>\n    </text>\n    <path class=\"displacy-arrowhead\" d=\"M390.0,266.5 L398.0,254.5 382.0,254.5\" fill=\"currentColor\"/>\n</g>\n\n<g class=\"displacy-arrow\">\n    <path class=\"displacy-arc\" id=\"arrow-f595e30fb29b44e3919c76dd8c5b87a4-0-2\" stroke-width=\"2px\" d=\"M595,264.5 C595,89.5 1095.0,89.5 1095.0,264.5\" fill=\"none\" stroke=\"currentColor\"/>\n    <text dy=\"1.25em\" style=\"font-size: 0.8em; letter-spacing: 1px\">\n        <textPath xlink:href=\"#arrow-f595e30fb29b44e3919c76dd8c5b87a4-0-2\" class=\"displacy-label\" startOffset=\"50%\" side=\"left\" fill=\"currentColor\" text-anchor=\"middle\">cc</textPath>\n    </text>\n    <path class=\"displacy-arrowhead\" d=\"M595,266.5 L587,254.5 603,254.5\" fill=\"currentColor\"/>\n</g>\n\n<g class=\"displacy-arrow\">\n    <path class=\"displacy-arc\" id=\"arrow-f595e30fb29b44e3919c76dd8c5b87a4-0-3\" stroke-width=\"2px\" d=\"M770,264.5 C770,177.0 915.0,177.0 915.0,264.5\" fill=\"none\" stroke=\"currentColor\"/>\n    <text dy=\"1.25em\" style=\"font-size: 0.8em; letter-spacing: 1px\">\n        <textPath xlink:href=\"#arrow-f595e30fb29b44e3919c76dd8c5b87a4-0-3\" class=\"displacy-label\" startOffset=\"50%\" side=\"left\" fill=\"currentColor\" text-anchor=\"middle\">advmod</textPath>\n    </text>\n    <path class=\"displacy-arrowhead\" d=\"M770,266.5 L762,254.5 778,254.5\" fill=\"currentColor\"/>\n</g>\n\n<g class=\"displacy-arrow\">\n    <path class=\"displacy-arc\" id=\"arrow-f595e30fb29b44e3919c76dd8c5b87a4-0-4\" stroke-width=\"2px\" d=\"M945,264.5 C945,177.0 1090.0,177.0 1090.0,264.5\" fill=\"none\" stroke=\"currentColor\"/>\n    <text dy=\"1.25em\" style=\"font-size: 0.8em; letter-spacing: 1px\">\n        <textPath xlink:href=\"#arrow-f595e30fb29b44e3919c76dd8c5b87a4-0-4\" class=\"displacy-label\" startOffset=\"50%\" side=\"left\" fill=\"currentColor\" text-anchor=\"middle\">amod</textPath>\n    </text>\n    <path class=\"displacy-arrowhead\" d=\"M945,266.5 L937,254.5 953,254.5\" fill=\"currentColor\"/>\n</g>\n\n<g class=\"displacy-arrow\">\n    <path class=\"displacy-arc\" id=\"arrow-f595e30fb29b44e3919c76dd8c5b87a4-0-5\" stroke-width=\"2px\" d=\"M245,264.5 C245,2.0 1100.0,2.0 1100.0,264.5\" fill=\"none\" stroke=\"currentColor\"/>\n    <text dy=\"1.25em\" style=\"font-size: 0.8em; letter-spacing: 1px\">\n        <textPath xlink:href=\"#arrow-f595e30fb29b44e3919c76dd8c5b87a4-0-5\" class=\"displacy-label\" startOffset=\"50%\" side=\"left\" fill=\"currentColor\" text-anchor=\"middle\">conj</textPath>\n    </text>\n    <path class=\"displacy-arrowhead\" d=\"M1100.0,266.5 L1108.0,254.5 1092.0,254.5\" fill=\"currentColor\"/>\n</g>\n</svg></span>"
     },
     "metadata": {},
     "output_type": "display_data"
    }
   ],
   "source": [
    "about_interest_text = ('Krowy dają mleko, ale nie napoje gazowane')\n",
    "about_interest_doc = nlp(about_interest_text)\n",
    "displacy.render(about_interest_doc, style='dep', jupyter=True)"
   ],
   "metadata": {
    "collapsed": false,
    "pycharm": {
     "name": "#%%\n"
    }
   }
  },
  {
   "cell_type": "markdown",
   "source": [
    "# Funkcje przygotowujące dane"
   ],
   "metadata": {
    "collapsed": false,
    "pycharm": {
     "name": "#%% md\n"
    }
   }
  },
  {
   "cell_type": "markdown",
   "source": [
    "funkcja zamieniająca tekst, na dane gotowe do przetowrzenia za pomocą spacy"
   ],
   "metadata": {
    "collapsed": false,
    "pycharm": {
     "name": "#%% md\n"
    }
   }
  },
  {
   "cell_type": "code",
   "execution_count": 7,
   "outputs": [
    {
     "data": {
      "text/plain": "['polska',\n 'pozostawać',\n 'wpływ',\n 'potężny',\n 'zimny',\n 'rosyjski',\n 'wyż',\n 'masa',\n 'zimny',\n 'stary',\n 'powietrze',\n 'arktyczny',\n 'czwartek',\n 'odsuwać',\n 'znad',\n 'polska',\n 'ciepły',\n 'masa',\n 'polarny',\n 'pchać',\n 'pochmurny',\n 'wir',\n 'niżowy',\n 'znad',\n 'atlantyk',\n 'zachodni',\n 'europ',\n 'morze',\n 'śródziemny',\n 'temperatura',\n 'drugi',\n 'połów',\n 'tydzień',\n 'wzrosnąć',\n 'podobnie',\n 'zachmurzenie',\n 'mróz',\n 'zelżeje',\n 'liczyć',\n 'zimowy',\n 'aura',\n 'mikołajkowy',\n 'weekend',\n 'zapowiadać',\n 'plucha',\n 'środa',\n 'zimno',\n 'pogodnie',\n 'miejsce',\n 'przejściowo',\n 'wzrosnąć',\n 'zachmurzenie',\n 'temperatura',\n 'minimalny',\n 'wynieść',\n '-1',\n 'stopień',\n 'celsjusz',\n 'suwalszczyzna',\n 'podlasie',\n 'małopolska',\n 'górny',\n 'śląsko',\n '1',\n 'st',\n 'c',\n 'centrum',\n 'kraj',\n '3',\n 'st',\n 'c',\n 'ziemia',\n 'lubuski',\n 'pomorze',\n 'zachodni',\n 'wiatr',\n 'wschodni',\n 'południowy',\n 'wschodni',\n 'słaby',\n 'umiarkowany',\n 'okres',\n 'silny']"
     },
     "execution_count": 7,
     "metadata": {},
     "output_type": "execute_result"
    }
   ],
   "source": [
    "def is_token_allowed(token):\n",
    "    if (not token or not token.string.strip() or\n",
    "         token.is_stop or token.is_punct):\n",
    "         return False\n",
    "    return True\n",
    "\n",
    "def preprocess_token(token):\n",
    "     return token.lemma_.strip().lower()\n",
    "\n",
    "complete_filtered_tokens = [preprocess_token(token)\n",
    "    for token in complete_doc if is_token_allowed(token)]\n",
    "complete_filtered_tokens"
   ],
   "metadata": {
    "collapsed": false,
    "pycharm": {
     "name": "#%%\n"
    }
   }
  },
  {
   "cell_type": "markdown",
   "source": [
    "Wyodrębnienie imienia i nazwiska"
   ],
   "metadata": {
    "collapsed": false,
    "pycharm": {
     "name": "#%% md\n"
    }
   }
  },
  {
   "cell_type": "code",
   "execution_count": 13,
   "outputs": [],
   "source": [
    "matcher = Matcher(nlp.vocab)\n",
    "tekst_z_nazwiskiem = 'Marcin Kowalski jest mistrzem świata w zalewaniu herbaty zimną wodą.'\n",
    "nlp_nazwisko = nlp(tekst_z_nazwiskiem)\n",
    "def extract_full_name(nlp_doc):\n",
    "     pattern = [{'POS': 'PROPN'}, {'POS': 'PROPN'}]\n",
    "     matcher.add('FULL_NAME', None, pattern)\n",
    "     matches = matcher(nlp_doc)\n",
    "     for match_id, start, end in matches:\n",
    "         span = nlp_nazwisko[start:end]\n",
    "         return span.text\n",
    "\n",
    "extract_full_name(nlp_nazwisko)"
   ],
   "metadata": {
    "collapsed": false,
    "pycharm": {
     "name": "#%%\n"
    }
   }
  },
  {
   "cell_type": "markdown",
   "source": [
    "Wyodrębnienie numeru telefonu"
   ],
   "metadata": {
    "collapsed": false,
    "pycharm": {
     "name": "#%% md\n"
    }
   }
  },
  {
   "cell_type": "code",
   "execution_count": 14,
   "outputs": [
    {
     "data": {
      "text/plain": "'(123) 456-789'"
     },
     "execution_count": 14,
     "metadata": {},
     "output_type": "execute_result"
    }
   ],
   "source": [
    "conference_org_text = ('Możemy umówićsięw innym terminie, tu jest mój numer telefonu: (123) 456-789')\n",
    "\n",
    "def extract_phone_number(nlp_doc):\n",
    "     pattern = [{'ORTH': '('}, {'SHAPE': 'ddd'},\n",
    "                {'ORTH': ')'}, {'SHAPE': 'ddd'},\n",
    "                {'ORTH': '-', 'OP': '?'},\n",
    "                {'SHAPE': 'ddd'}]\n",
    "     matcher.add('PHONE_NUMBER', None, pattern)\n",
    "     matches = matcher(nlp_doc)\n",
    "     for match_id, start, end in matches:\n",
    "         span = nlp_doc[start:end]\n",
    "         return span.text\n",
    "\n",
    "conference_org_doc = nlp(conference_org_text)\n",
    "extract_phone_number(conference_org_doc)"
   ],
   "metadata": {
    "collapsed": false,
    "pycharm": {
     "name": "#%%\n"
    }
   }
  },
  {
   "cell_type": "markdown",
   "source": [
    "# zależności między wyrazami"
   ],
   "metadata": {
    "collapsed": false,
    "pycharm": {
     "name": "#%% md\n"
    }
   }
  },
  {
   "cell_type": "markdown",
   "source": [
    " wyświetlenie zależności"
   ],
   "metadata": {
    "collapsed": false,
    "pycharm": {
     "name": "#%% md\n"
    }
   }
  },
  {
   "cell_type": "code",
   "execution_count": 37,
   "outputs": [
    {
     "name": "stdout",
     "output_type": "stream",
     "text": [
      "Gus SUBST uczy nsubj\n",
      "maciek SUBST Gus nmod\n",
      "uczy FIN uczy ROOT\n",
      "się QUB uczy expl:pv\n",
      "matematyki SUBST uczy obj\n"
     ]
    },
    {
     "data": {
      "text/plain": "<IPython.core.display.HTML object>",
      "text/html": "<span class=\"tex2jax_ignore\"><svg xmlns=\"http://www.w3.org/2000/svg\" xmlns:xlink=\"http://www.w3.org/1999/xlink\" xml:lang=\"pl\" id=\"fb9f839b99784c0b810ad4837e66cfb6-0\" class=\"displacy\" width=\"925\" height=\"312.0\" direction=\"ltr\" style=\"max-width: none; height: 312.0px; color: #000000; background: #ffffff; font-family: Arial; direction: ltr\">\n<text class=\"displacy-token\" fill=\"currentColor\" text-anchor=\"middle\" y=\"222.0\">\n    <tspan class=\"displacy-word\" fill=\"currentColor\" x=\"50\">Gus</tspan>\n    <tspan class=\"displacy-tag\" dy=\"2em\" fill=\"currentColor\" x=\"50\">NOUN</tspan>\n</text>\n\n<text class=\"displacy-token\" fill=\"currentColor\" text-anchor=\"middle\" y=\"222.0\">\n    <tspan class=\"displacy-word\" fill=\"currentColor\" x=\"225\">maciek</tspan>\n    <tspan class=\"displacy-tag\" dy=\"2em\" fill=\"currentColor\" x=\"225\">NOUN</tspan>\n</text>\n\n<text class=\"displacy-token\" fill=\"currentColor\" text-anchor=\"middle\" y=\"222.0\">\n    <tspan class=\"displacy-word\" fill=\"currentColor\" x=\"400\">uczy</tspan>\n    <tspan class=\"displacy-tag\" dy=\"2em\" fill=\"currentColor\" x=\"400\">VERB</tspan>\n</text>\n\n<text class=\"displacy-token\" fill=\"currentColor\" text-anchor=\"middle\" y=\"222.0\">\n    <tspan class=\"displacy-word\" fill=\"currentColor\" x=\"575\">się</tspan>\n    <tspan class=\"displacy-tag\" dy=\"2em\" fill=\"currentColor\" x=\"575\">PART</tspan>\n</text>\n\n<text class=\"displacy-token\" fill=\"currentColor\" text-anchor=\"middle\" y=\"222.0\">\n    <tspan class=\"displacy-word\" fill=\"currentColor\" x=\"750\">matematyki</tspan>\n    <tspan class=\"displacy-tag\" dy=\"2em\" fill=\"currentColor\" x=\"750\">NOUN</tspan>\n</text>\n\n<g class=\"displacy-arrow\">\n    <path class=\"displacy-arc\" id=\"arrow-fb9f839b99784c0b810ad4837e66cfb6-0-0\" stroke-width=\"2px\" d=\"M70,177.0 C70,2.0 400.0,2.0 400.0,177.0\" fill=\"none\" stroke=\"currentColor\"/>\n    <text dy=\"1.25em\" style=\"font-size: 0.8em; letter-spacing: 1px\">\n        <textPath xlink:href=\"#arrow-fb9f839b99784c0b810ad4837e66cfb6-0-0\" class=\"displacy-label\" startOffset=\"50%\" side=\"left\" fill=\"currentColor\" text-anchor=\"middle\">nsubj</textPath>\n    </text>\n    <path class=\"displacy-arrowhead\" d=\"M70,179.0 L62,167.0 78,167.0\" fill=\"currentColor\"/>\n</g>\n\n<g class=\"displacy-arrow\">\n    <path class=\"displacy-arc\" id=\"arrow-fb9f839b99784c0b810ad4837e66cfb6-0-1\" stroke-width=\"2px\" d=\"M70,177.0 C70,89.5 220.0,89.5 220.0,177.0\" fill=\"none\" stroke=\"currentColor\"/>\n    <text dy=\"1.25em\" style=\"font-size: 0.8em; letter-spacing: 1px\">\n        <textPath xlink:href=\"#arrow-fb9f839b99784c0b810ad4837e66cfb6-0-1\" class=\"displacy-label\" startOffset=\"50%\" side=\"left\" fill=\"currentColor\" text-anchor=\"middle\">nmod</textPath>\n    </text>\n    <path class=\"displacy-arrowhead\" d=\"M220.0,179.0 L228.0,167.0 212.0,167.0\" fill=\"currentColor\"/>\n</g>\n\n<g class=\"displacy-arrow\">\n    <path class=\"displacy-arc\" id=\"arrow-fb9f839b99784c0b810ad4837e66cfb6-0-2\" stroke-width=\"2px\" d=\"M420,177.0 C420,89.5 570.0,89.5 570.0,177.0\" fill=\"none\" stroke=\"currentColor\"/>\n    <text dy=\"1.25em\" style=\"font-size: 0.8em; letter-spacing: 1px\">\n        <textPath xlink:href=\"#arrow-fb9f839b99784c0b810ad4837e66cfb6-0-2\" class=\"displacy-label\" startOffset=\"50%\" side=\"left\" fill=\"currentColor\" text-anchor=\"middle\">expl:pv</textPath>\n    </text>\n    <path class=\"displacy-arrowhead\" d=\"M570.0,179.0 L578.0,167.0 562.0,167.0\" fill=\"currentColor\"/>\n</g>\n\n<g class=\"displacy-arrow\">\n    <path class=\"displacy-arc\" id=\"arrow-fb9f839b99784c0b810ad4837e66cfb6-0-3\" stroke-width=\"2px\" d=\"M420,177.0 C420,2.0 750.0,2.0 750.0,177.0\" fill=\"none\" stroke=\"currentColor\"/>\n    <text dy=\"1.25em\" style=\"font-size: 0.8em; letter-spacing: 1px\">\n        <textPath xlink:href=\"#arrow-fb9f839b99784c0b810ad4837e66cfb6-0-3\" class=\"displacy-label\" startOffset=\"50%\" side=\"left\" fill=\"currentColor\" text-anchor=\"middle\">obj</textPath>\n    </text>\n    <path class=\"displacy-arrowhead\" d=\"M750.0,179.0 L758.0,167.0 742.0,167.0\" fill=\"currentColor\"/>\n</g>\n</svg></span>"
     },
     "metadata": {},
     "output_type": "display_data"
    }
   ],
   "source": [
    "matma_text = 'Gus maciek uczy się matematyki'\n",
    "matma_doc = nlp(matma_text)\n",
    "for token in matma_doc:\n",
    "    print (token.text, token.tag_, token.head.text, token.dep_)\n",
    "displacy.render(matma_doc, style='dep', jupyter=True)"
   ],
   "metadata": {
    "collapsed": false,
    "pycharm": {
     "name": "#%%\n"
    }
   }
  },
  {
   "cell_type": "code",
   "execution_count": null,
   "outputs": [],
   "source": [
    "one_line_about_text = ('Marcin Niekłoński jest starszym programistą w firmie Microsoft')\n",
    "one_line_about_doc = nlp(one_line_about_text)"
   ],
   "metadata": {
    "collapsed": false,
    "pycharm": {
     "name": "#%%\n"
    }
   }
  },
  {
   "cell_type": "markdown",
   "source": [
    "dzieci od 'programista'"
   ],
   "metadata": {
    "collapsed": false,
    "pycharm": {
     "name": "#%% md\n"
    }
   }
  },
  {
   "cell_type": "code",
   "execution_count": 23,
   "outputs": [
    {
     "name": "stdout",
     "output_type": "stream",
     "text": [
      "['Marcin', 'jest', 'starszym', 'firmie']\n"
     ]
    }
   ],
   "source": [
    "print([token.text for token in one_line_about_doc[4].children])"
   ],
   "metadata": {
    "collapsed": false,
    "pycharm": {
     "name": "#%%\n"
    }
   }
  },
  {
   "cell_type": "markdown",
   "source": [
    "Poprzedni węzeł od `Microsoftu`"
   ],
   "metadata": {
    "collapsed": false,
    "pycharm": {
     "name": "#%% md\n"
    }
   }
  },
  {
   "cell_type": "code",
   "execution_count": 25,
   "outputs": [
    {
     "name": "stdout",
     "output_type": "stream",
     "text": [
      "w\n"
     ]
    }
   ],
   "source": [
    "print (one_line_about_doc[6].nbor(-1))"
   ],
   "metadata": {
    "collapsed": false,
    "pycharm": {
     "name": "#%%\n"
    }
   }
  },
  {
   "cell_type": "markdown",
   "source": [
    "Następny węzeł od 'jest'"
   ],
   "metadata": {
    "collapsed": false,
    "pycharm": {
     "name": "#%% md\n"
    }
   }
  },
  {
   "cell_type": "code",
   "execution_count": 30,
   "outputs": [
    {
     "name": "stdout",
     "output_type": "stream",
     "text": [
      "programistą\n"
     ]
    }
   ],
   "source": [
    "print (one_line_about_doc[3].nbor())"
   ],
   "metadata": {
    "collapsed": false,
    "pycharm": {
     "name": "#%%\n"
    }
   }
  },
  {
   "cell_type": "markdown",
   "source": [
    "Wyodrębnij wszystkie węzły na lewo od `programista`"
   ],
   "metadata": {
    "collapsed": false,
    "pycharm": {
     "name": "#%% md\n"
    }
   }
  },
  {
   "cell_type": "code",
   "execution_count": 28,
   "outputs": [
    {
     "name": "stdout",
     "output_type": "stream",
     "text": [
      "['Marcin', 'jest', 'starszym']\n"
     ]
    }
   ],
   "source": [
    "print([token.text for token in one_line_about_doc[4].lefts])"
   ],
   "metadata": {
    "collapsed": false,
    "pycharm": {
     "name": "#%%\n"
    }
   }
  },
  {
   "cell_type": "markdown",
   "source": [
    "Na prawo od `programista'"
   ],
   "metadata": {
    "collapsed": false,
    "pycharm": {
     "name": "#%% md\n"
    }
   }
  },
  {
   "cell_type": "code",
   "execution_count": 34,
   "outputs": [
    {
     "name": "stdout",
     "output_type": "stream",
     "text": [
      "['firmie']\n"
     ]
    }
   ],
   "source": [
    "print([token.text for token in one_line_about_doc[4].rights])"
   ],
   "metadata": {
    "collapsed": false,
    "pycharm": {
     "name": "#%%\n"
    }
   }
  },
  {
   "cell_type": "markdown",
   "source": [
    "wyświetl poddrzewo `programista`"
   ],
   "metadata": {
    "collapsed": false,
    "pycharm": {
     "name": "#%% md\n"
    }
   }
  },
  {
   "cell_type": "code",
   "execution_count": 35,
   "outputs": [
    {
     "name": "stdout",
     "output_type": "stream",
     "text": [
      "[Marcin, Niekłoński, jest, starszym, programistą, w, firmie, Microsoft]\n"
     ]
    }
   ],
   "source": [
    "print (list(one_line_about_doc[4].subtree))"
   ],
   "metadata": {
    "collapsed": false,
    "pycharm": {
     "name": "#%%\n"
    }
   }
  },
  {
   "cell_type": "markdown",
   "source": [
    "wyciągnie kontekstu zdania"
   ],
   "metadata": {
    "collapsed": false,
    "pycharm": {
     "name": "#%% md\n"
    }
   }
  },
  {
   "cell_type": "code",
   "execution_count": 38,
   "outputs": [],
   "source": [
    "gig_text = ('Dnia 23-03 odbędzie się koncert grupy Bayer Full w Filharmonii warszawskiej')\n",
    "conference_doc = nlp(gig_text)\n",
    "# Extract Noun Phrases\n",
    "for chunk in conference_doc.noun_chunks:\n",
    "     print (chunk)"
   ],
   "metadata": {
    "collapsed": false,
    "pycharm": {
     "name": "#%%\n"
    }
   }
  },
  {
   "cell_type": "markdown",
   "source": [
    "Wyodrębnienie na postawie gramatyki (pattern)"
   ],
   "metadata": {
    "collapsed": false,
    "pycharm": {
     "name": "#%% md\n"
    }
   }
  },
  {
   "cell_type": "code",
   "execution_count": 42,
   "outputs": [
    {
     "name": "stdout",
     "output_type": "stream",
     "text": [
      "wprowadzi\n"
     ]
    },
    {
     "name": "stderr",
     "output_type": "stream",
     "text": [
      "c:\\users\\dzem0\\pycharmprojects\\pythonproject\\venv\\lib\\site-packages\\textacy\\extract.py:334: DeprecationWarning: `pos_regex_matches()` has been deprecated! for similar but more powerful and performant functionality, use `textacy.extract.matches()` instead.\n",
      "  utils.deprecated(\n"
     ]
    }
   ],
   "source": [
    "import textacy\n",
    "about_talk_text = ('Rozmowa wprowadzi w użytkownika w niesmowity świat tajemniczej magii i czarów')\n",
    "pattern = r'(<VERB>?<ADV>*<VERB>+)'\n",
    "about_talk_doc = textacy.make_spacy_doc(about_talk_text,\n",
    "                                        lang='pl_core_news_sm')\n",
    "verb_phrases = textacy.extract.pos_regex_matches(about_talk_doc, pattern)\n",
    "# Print all Verb Phrase\n",
    "for chunk in verb_phrases:\n",
    "     print(chunk.text)"
   ],
   "metadata": {
    "collapsed": false,
    "pycharm": {
     "name": "#%%\n"
    }
   }
  },
  {
   "cell_type": "markdown",
   "source": [
    "Rozpoznawanie nazw własnych"
   ],
   "metadata": {
    "collapsed": false,
    "pycharm": {
     "name": "#%% md\n"
    }
   }
  },
  {
   "cell_type": "code",
   "execution_count": 47,
   "outputs": [
    {
     "name": "stdout",
     "output_type": "stream",
     "text": [
      "Kanion 7 13 placeName None\n",
      "Stanach Zjednoczonych 21 42 placeName None\n",
      "Wielki 46 52 placeName None\n",
      "Chiński 57 64 placeName None\n",
      "Chinach 69 76 placeName None\n"
     ]
    },
    {
     "data": {
      "text/plain": "<IPython.core.display.HTML object>",
      "text/html": "<span class=\"tex2jax_ignore\"><div class=\"entities\" style=\"line-height: 2.5; direction: ltr\">Wielki \n<mark class=\"entity\" style=\"background: #ddd; padding: 0.45em 0.6em; margin: 0 0.25em; line-height: 1; border-radius: 0.35em;\">\n    Kanion\n    <span style=\"font-size: 0.8em; font-weight: bold; line-height: 1; border-radius: 0.35em; text-transform: uppercase; vertical-align: middle; margin-left: 0.5rem\">placeName</span>\n</mark>\n leży w \n<mark class=\"entity\" style=\"background: #ddd; padding: 0.45em 0.6em; margin: 0 0.25em; line-height: 1; border-radius: 0.35em;\">\n    Stanach Zjednoczonych\n    <span style=\"font-size: 0.8em; font-weight: bold; line-height: 1; border-radius: 0.35em; text-transform: uppercase; vertical-align: middle; margin-left: 0.5rem\">placeName</span>\n</mark>\n, a \n<mark class=\"entity\" style=\"background: #ddd; padding: 0.45em 0.6em; margin: 0 0.25em; line-height: 1; border-radius: 0.35em;\">\n    Wielki\n    <span style=\"font-size: 0.8em; font-weight: bold; line-height: 1; border-radius: 0.35em; text-transform: uppercase; vertical-align: middle; margin-left: 0.5rem\">placeName</span>\n</mark>\n Mur \n<mark class=\"entity\" style=\"background: #ddd; padding: 0.45em 0.6em; margin: 0 0.25em; line-height: 1; border-radius: 0.35em;\">\n    Chiński\n    <span style=\"font-size: 0.8em; font-weight: bold; line-height: 1; border-radius: 0.35em; text-transform: uppercase; vertical-align: middle; margin-left: 0.5rem\">placeName</span>\n</mark>\n - w \n<mark class=\"entity\" style=\"background: #ddd; padding: 0.45em 0.6em; margin: 0 0.25em; line-height: 1; border-radius: 0.35em;\">\n    Chinach\n    <span style=\"font-size: 0.8em; font-weight: bold; line-height: 1; border-radius: 0.35em; text-transform: uppercase; vertical-align: middle; margin-left: 0.5rem\">placeName</span>\n</mark>\n</div></span>"
     },
     "metadata": {},
     "output_type": "display_data"
    }
   ],
   "source": [
    "piano_class_text = ('Wielki Kanion leży w Stanach Zjednoczonych, a Wielki Mur Chiński - w Chinach')\n",
    "piano_class_doc = nlp(piano_class_text)\n",
    "for ent in piano_class_doc.ents:\n",
    "     print(ent.text, ent.start_char, ent.end_char,\n",
    "           ent.label_, spacy.explain(ent.label_))\n",
    "displacy.render(piano_class_doc, style='ent', jupyter=True)"
   ],
   "metadata": {
    "collapsed": false,
    "pycharm": {
     "name": "#%%\n"
    }
   }
  },
  {
   "cell_type": "markdown",
   "source": [
    "usuwanie imion"
   ],
   "metadata": {
    "collapsed": false,
    "pycharm": {
     "name": "#%% md\n"
    }
   }
  },
  {
   "cell_type": "code",
   "execution_count": 49,
   "outputs": [
    {
     "name": "stderr",
     "output_type": "stream",
     "text": [
      "<ipython-input-49-89f81c1a5793>:10: DeprecationWarning: [W013] As of v2.1.0, Span.merge is deprecated. Please use the more efficient and less error-prone Doc.retokenize context manager instead.\n",
      "  ent.merge()\n",
      "<ipython-input-49-89f81c1a5793>:10: DeprecationWarning: [W013] As of v2.1.0, Doc.merge is deprecated. Please use the more efficient and less error-prone Doc.retokenize context manager instead.\n",
      "  ent.merge()\n"
     ]
    },
    {
     "data": {
      "text/plain": "'Okazuje się, że Marcin Nowak lubi owoce, Grażyna Kowal bardziej wazrywa, a Wiesław Miecz je tylko mięso'"
     },
     "execution_count": 49,
     "metadata": {},
     "output_type": "execute_result"
    }
   ],
   "source": [
    "survey_text = 'Okazuje się, że Marcin Nowak lubi owoce, Grażyna Kowal bardziej wazrywa, a Wiesław Miecz je tylko mięso'\n",
    "\n",
    "def replace_person_names(token):\n",
    "     if token.ent_iob != 0 and token.ent_type_ == 'PERSON':\n",
    "         return '[REDACTED] '\n",
    "     return token.string\n",
    "\n",
    "def redact_names(nlp_doc):\n",
    "     for ent in nlp_doc.ents:\n",
    "         ent.merge()\n",
    "     tokens = map(replace_person_names, nlp_doc)\n",
    "     return ''.join(tokens)\n",
    "\n",
    "survey_doc = nlp(survey_text)\n",
    "redact_names(survey_doc)\n"
   ],
   "metadata": {
    "collapsed": false,
    "pycharm": {
     "name": "#%%\n"
    }
   }
  }
 ],
 "metadata": {
  "kernelspec": {
   "display_name": "Python 3",
   "language": "python",
   "name": "python3"
  },
  "language_info": {
   "codemirror_mode": {
    "name": "ipython",
    "version": 2
   },
   "file_extension": ".py",
   "mimetype": "text/x-python",
   "name": "python",
   "nbconvert_exporter": "python",
   "pygments_lexer": "ipython2",
   "version": "2.7.6"
  }
 },
 "nbformat": 4,
 "nbformat_minor": 0
}